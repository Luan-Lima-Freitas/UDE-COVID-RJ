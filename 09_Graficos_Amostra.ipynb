{
 "cells": [
  {
   "cell_type": "code",
   "execution_count": 1,
   "metadata": {},
   "outputs": [],
   "source": [
    "using CSV, DataFrames, Dates, Plots, DiffEqFlux, DifferentialEquations.OrdinaryDiffEq, Statistics"
   ]
  },
  {
   "cell_type": "code",
   "execution_count": 2,
   "metadata": {},
   "outputs": [],
   "source": [
    "df = DataFrame(CSV.File(\"DadosMedia.csv\"))\n",
    "\n",
    "datasTudo = df[:,\"DatasMedia\"]\n",
    "infTudo = df[:,\"InfectadosMedia\"]\n",
    "recTudo = df[:,\"RecuperadosMedia\"]\n",
    "decTudo = df[:,\"ObitosMedia\"]\n",
    "\n",
    "limiteE = findall(data->data==Date(2020,03,18),datasTudo)[1]\n",
    "limiteD = findall(data->data==Date(2020,06,30),datasTudo)[1]\n",
    "\n",
    "datasOnda = datasTudo[limiteE:limiteD]\n",
    "inf_onda = infTudo[limiteE:limiteD]\n",
    "rec_onda = recTudo[limiteE:limiteD]\n",
    "dec_onda = decTudo[limiteE:limiteD]\n",
    "\n",
    "dados_onda = hcat(inf_onda,rec_onda,dec_onda)\n",
    "\n",
    "u₀  = [inf_onda[1], rec_onda[1], dec_onda[1]]\n",
    "\n",
    "nothing"
   ]
  },
  {
   "cell_type": "code",
   "execution_count": 3,
   "metadata": {},
   "outputs": [],
   "source": [
    "N = 40\n",
    "M = 10\n",
    "\n",
    "SIR_model_name = \"SIRD\"\n",
    "UODE_model_name = \"SIRD_UODE_b\"\n",
    "cost_name = \"SSR-max\"\n",
    "\n",
    "function dudtSIR!(du, u, θ, t)\n",
    "    S, I, R, D = u\n",
    "    N = S + I + R\n",
    "    β, γ_R, γ_D = θ\n",
    "\n",
    "    E_novos = β^2 * I*S / N\n",
    "    dS = -E_novos \n",
    "    dI = E_novos - (γ_R^2 + γ_D^2)*I\n",
    "    dR = γ_R^2*I\n",
    "    dD = γ_D^2*I\n",
    "\n",
    "    du[1] = dS; du[2] = dI; du[3] = dR; du[4] = dD\n",
    "end\n",
    "\n",
    "if UODE_model_name == \"SIRD_UODE_bSI\"\n",
    "    NN = FastChain(FastDense(2,16,tanh), FastDense(16,16,tanh), FastDense(16,1), (x, θ) -> x.^2)\n",
    "\n",
    "    function dudt_UODE!(du, u, θ, t)\n",
    "        S, I, R, D = u\n",
    "        N = S + I + R + D\n",
    "        γ_R, γ_D = θ[1:2]\n",
    "    \n",
    "        E_novos =  NN([S/N, I], θ[3:end])[1]\n",
    "        dS = -E_novos \n",
    "        dI = E_novos - (γ_R^2 + γ_D^2)*I\n",
    "        dR = γ_R^2*I\n",
    "        dD = γ_D^2*I\n",
    "    \n",
    "        du[1] = dS; du[2] = dI; du[3] = dR; du[4] = dD\n",
    "    end\n",
    "elseif UODE_model_name == \"SIRD_UODE_b\"\n",
    "    NN = FastChain(FastDense(4,16,tanh), FastDense(16,16,tanh), FastDense(16,1), (x, θ) -> x.^2)\n",
    "\n",
    "    function dudt_UODE!(du, u, θ, t)\n",
    "        S, I, R, D = u\n",
    "        N = S + I + R + D\n",
    "        γ_R, γ_D = θ[1:2]\n",
    "\n",
    "        E_novos =  NN(u, θ[3:end])[1] * I*S / N\n",
    "        dS = -E_novos \n",
    "        dI = E_novos - (γ_R^2 + γ_D^2)*I\n",
    "        dR = γ_R^2*I\n",
    "        dD = γ_D^2*I\n",
    "\n",
    "        du[1] = dS; du[2] = dI; du[3] = dR; du[4] = dD\n",
    "    end\n",
    "end\n",
    "\n",
    "nothing"
   ]
  },
  {
   "cell_type": "code",
   "execution_count": 4,
   "metadata": {},
   "outputs": [],
   "source": [
    "S₀ = CSV.read(string(\"parametros/\", UODE_model_name, \"/condicao_inicial_\", cost_name, \"_\", N, \"_dias.csv\"), DataFrame, header = \n",
    "    false)[1, 1]\n",
    "\n",
    "dadosTreino = dados_onda[1:N, :]    \n",
    "fator_reducao = sum([S₀; u₀])\n",
    "\n",
    "θ₁_SIR = CSV.read(string(\"parametros/\", UODE_model_name, \"/parametros_SIRD_\", cost_name, \"_\", N, \"_dias.csv\"), DataFrame,\n",
    "    header = false)[1, :]\n",
    "\n",
    "h = 0.02\n",
    "\n",
    "modeloSIR = solve(ODEProblem(dudtSIR!, [S₀; u₀], (1., size(dados_onda)[1]), θ₁_SIR), saveat = h)\n",
    "\n",
    "inf_SIR = modeloSIR[2, :]\n",
    "rec_SIR = modeloSIR[3, :]\n",
    "dec_SIR = modeloSIR[4, :]\n",
    "\n",
    "nothing"
   ]
  },
  {
   "cell_type": "code",
   "execution_count": 5,
   "metadata": {},
   "outputs": [],
   "source": [
    "θ₁_UODE_amostral = CSV.read(string(\"parametros/\", UODE_model_name, \"/parametros_UODE_\", cost_name, \"_\", N, \"_dias.csv\"),\n",
    "    DataFrame, header = false)[:, 1:end-1]\n",
    "\n",
    "θ₁_UODE = [col[1] for col in eachcol(θ₁_UODE_amostral)]\n",
    "\n",
    "modelo_UODE = solve(ODEProblem(dudt_UODE!, [S₀; u₀] ./ fator_reducao, (1., size(dados_onda)[1]), θ₁_UODE), saveat = h\n",
    "    ) .* fator_reducao\n",
    "\n",
    "inf_UODE = modelo_UODE[2, :]\n",
    "rec_UODE = modelo_UODE[3, :]\n",
    "dec_UODE = modelo_UODE[4, :]\n",
    "\n",
    "inf_UODE_amostra = inf_UODE[:, :]\n",
    "rec_UODE_amostra = rec_UODE[:, :]\n",
    "dec_UODE_amostra = dec_UODE[:, :]\n",
    "\n",
    "for m in range(2, M)\n",
    "    θ₁_UODE = [col[m] for col in eachcol(θ₁_UODE_amostral)]\n",
    "    \n",
    "    modelo_UODE = solve(ODEProblem(dudt_UODE!, [S₀; u₀] ./ fator_reducao, (1., size(dados_onda)[1]), θ₁_UODE), saveat = h\n",
    "        ) .* fator_reducao\n",
    "\n",
    "    inf_UODE = modelo_UODE[2, :]\n",
    "    rec_UODE = modelo_UODE[3, :]\n",
    "    dec_UODE = modelo_UODE[4, :]\n",
    "    \n",
    "    inf_UODE_amostra = hcat(inf_UODE_amostra, inf_UODE)\n",
    "    rec_UODE_amostra = hcat(rec_UODE_amostra, rec_UODE)\n",
    "    dec_UODE_amostra = hcat(dec_UODE_amostra, dec_UODE)\n",
    "end"
   ]
  },
  {
   "cell_type": "code",
   "execution_count": 6,
   "metadata": {},
   "outputs": [
    {
     "data": {
      "text/plain": [
       "10-element Vector{Float64}:\n",
       " 1.6115121110310942e-5\n",
       " 1.6337175862435352e-5\n",
       " 1.6376157327089985e-5\n",
       " 1.644103950441966e-5\n",
       " 1.644166722961457e-5\n",
       " 1.6445077252323783e-5\n",
       " 1.645252489533188e-5\n",
       " 1.64653615831097e-5\n",
       " 1.6470577859930503e-5\n",
       " 1.649830264019323e-5"
      ]
     },
     "execution_count": 6,
     "metadata": {},
     "output_type": "execute_result"
    }
   ],
   "source": [
    "errs = θ₁_UODE_amostral = CSV.read(string(\"parametros/\", UODE_model_name, \"/parametros_UODE_\", cost_name, \"_\", N, \"_dias.csv\"),\n",
    "    DataFrame, header = false)[:, end]\n",
    "\n",
    "sorted_errs_indexes = sortperm(errs)\n",
    "\n",
    "errs[sorted_errs_indexes]"
   ]
  },
  {
   "cell_type": "code",
   "execution_count": 7,
   "metadata": {},
   "outputs": [
    {
     "data": {
      "text/plain": [
       "0.013779279138171195"
      ]
     },
     "execution_count": 7,
     "metadata": {},
     "output_type": "execute_result"
    }
   ],
   "source": [
    "(errs[sorted_errs_indexes][2] - errs[sorted_errs_indexes][1])/errs[sorted_errs_indexes][1]"
   ]
  },
  {
   "cell_type": "code",
   "execution_count": null,
   "metadata": {
    "scrolled": false
   },
   "outputs": [],
   "source": [
    "for best in 1:5\n",
    "    pl = plot(1.:h:105., inf_UODE_amostra, color = \"gray80\", label = \"\", xlim = (1, 105), ylim = (-1_000, 45_000), title = \n",
    "    \"SIR x UODE para $N dias de treino - INFECTADOS\", titlefontsize = 14)\n",
    "\n",
    "    plot!(pl, inf_onda, lw = 3, color = 1, linestyle = :dot, label = \"dados\")\n",
    "\n",
    "    plot!(pl, 1.:h:105., inf_SIR, lw = 2, color = 1, linestyle = :dash, label = \"SIR\")\n",
    "\n",
    "    plot!(pl, 1.:h:105., inf_UODE_amostra[:, sorted_errs_indexes[best]], lw = 2, color = 1, label = label = string(best,\n",
    "            \"ᵃ \\u0022melhor\\u0022 UODE\"))\n",
    "\n",
    "    plot!(pl, [N], seriestype = \"vline\", label = \"\", color = \"red\")\n",
    "\n",
    "    display(pl)\n",
    "end"
   ]
  },
  {
   "cell_type": "code",
   "execution_count": null,
   "metadata": {
    "scrolled": false
   },
   "outputs": [],
   "source": [
    "for best in 1:5\n",
    "    pl = plot(1.:h:105., rec_UODE_amostra, color = \"gray80\", label = \"\", xlim = (1, 105), ylim = (-1_000, 65_000), title = \n",
    "        \"SIR x UODE para $N dias de treino - RECUPERADOS\", titlefontsize = 14, legend = :topleft)\n",
    "\n",
    "    plot!(pl, rec_onda, lw = 3, color = 2, linestyle = :dot, label = \"dados\")\n",
    "\n",
    "    plot!(pl, 1.:h:105., rec_SIR, lw = 2, color = 2, linestyle = :dash, label = \"SIR\")\n",
    "\n",
    "    plot!(pl, 1.:h:105., rec_UODE_amostra[:, sorted_errs_indexes[best]], lw = 2, color = 2, label = string(best,\n",
    "            \"ᵃ \\u0022melhor\\u0022 UODE\"))\n",
    "\n",
    "    plot!(pl, [N], seriestype = \"vline\", label = \"\", color = \"red\")\n",
    "\n",
    "    display(pl)\n",
    "end"
   ]
  },
  {
   "cell_type": "code",
   "execution_count": null,
   "metadata": {
    "scrolled": false
   },
   "outputs": [],
   "source": [
    "for best in 1:5\n",
    "    pl = plot(1.:h:105., dec_UODE_amostra, color = \"gray80\", label = \"\", xlim = (1, 105), ylim = (-200, 10_000), title = \n",
    "        \"SIR x UODE para $N dias de treino - DECESSOS\", titlefontsize = 14, legend = :topleft)\n",
    "\n",
    "    plot!(pl, dec_onda, lw = 3, color = 3, linestyle = :dot, label = \"dados\")\n",
    "\n",
    "    plot!(pl, 1.:h:105., dec_SIR, lw = 2, color = 3, linestyle = :dash, label = \"SIR\")\n",
    "\n",
    "    plot!(pl, 1.:h:105., dec_UODE_amostra[:, sorted_errs_indexes[best]], lw = 2, color = 3, label = label = string(best,\n",
    "            \"ᵃ \\u0022melhor\\u0022 UODE\"))\n",
    "\n",
    "    plot!(pl, [N], seriestype = \"vline\", label = \"\", color = \"red\")\n",
    "\n",
    "    display(pl)\n",
    "end"
   ]
  }
 ],
 "metadata": {
  "kernelspec": {
   "display_name": "Julia 1.7.2",
   "language": "julia",
   "name": "julia-1.7"
  },
  "language_info": {
   "file_extension": ".jl",
   "mimetype": "application/julia",
   "name": "julia",
   "version": "1.7.2"
  }
 },
 "nbformat": 4,
 "nbformat_minor": 4
}
