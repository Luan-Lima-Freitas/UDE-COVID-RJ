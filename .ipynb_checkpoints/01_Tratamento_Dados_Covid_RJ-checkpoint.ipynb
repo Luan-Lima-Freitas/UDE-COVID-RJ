{
 "cells": [
  {
   "cell_type": "markdown",
   "metadata": {},
   "source": [
    "# Tratamento dos dados \n",
    "## da pandemia de COVID-19\n",
    "### no Rio de Janeiro"
   ]
  },
  {
   "cell_type": "code",
   "execution_count": 1,
   "metadata": {},
   "outputs": [],
   "source": [
    "using CSV\n",
    "using DataFrames\n",
    "using Dates\n",
    "using Plots\n",
    "using Distributions\n",
    "using Random"
   ]
  },
  {
   "cell_type": "markdown",
   "metadata": {},
   "source": [
    "## 1; Carregando e filtrando os dados"
   ]
  },
  {
   "cell_type": "code",
   "execution_count": 2,
   "metadata": {},
   "outputs": [
    {
     "data": {
      "text/html": [
       "<div class=\"data-frame\"><p>442,035 rows × 8 columns (omitted printing of 3 columns)</p><table class=\"data-frame\"><thead><tr><th></th><th>dt_notific</th><th>dt_inicio_sintomas</th><th>bairro_resid__estadia</th><th>ap_residencia_estadia</th><th>evolucao</th></tr><tr><th></th><th title=\"Union{Missing, String15}\">String15?</th><th title=\"String15\">String15</th><th title=\"String31\">String31</th><th title=\"Float64\">Float64</th><th title=\"Union{Missing, String15}\">String15?</th></tr></thead><tbody><tr><th>1</th><td>06/11/2020</td><td>05/28/2020</td><td>COSMOS</td><td>5.2</td><td>óbito</td></tr><tr><th>2</th><td>12/19/2020</td><td>12/18/2020</td><td>TIJUCA</td><td>2.2</td><td>recuperado</td></tr><tr><th>3</th><td>12/14/2020</td><td>12/14/2020</td><td>TIJUCA</td><td>2.2</td><td>óbito</td></tr><tr><th>4</th><td>11/30/2020</td><td>11/23/2020</td><td>ROCHA MIRANDA</td><td>3.3</td><td>recuperado</td></tr><tr><th>5</th><td>12/10/2020</td><td>12/01/2020</td><td>BENTO RIBEIRO</td><td>3.3</td><td>recuperado</td></tr><tr><th>6</th><td>12/18/2020</td><td>12/15/2020</td><td>CAMPO GRANDE</td><td>5.2</td><td>recuperado</td></tr><tr><th>7</th><td>12/16/2020</td><td>12/12/2020</td><td>COSMOS</td><td>5.2</td><td>recuperado</td></tr><tr><th>8</th><td>12/13/2020</td><td>12/10/2020</td><td>TIJUCA</td><td>2.2</td><td>recuperado</td></tr><tr><th>9</th><td>12/18/2020</td><td>12/11/2020</td><td>TAQUARA</td><td>4.0</td><td>óbito</td></tr><tr><th>10</th><td>12/07/2020</td><td>12/04/2020</td><td>VASCO DA GAMA</td><td>1.0</td><td>recuperado</td></tr><tr><th>11</th><td>12/04/2020</td><td>11/20/2020</td><td>ENCANTADO</td><td>3.2</td><td>óbito</td></tr><tr><th>12</th><td>12/15/2020</td><td>12/02/2020</td><td>MADUREIRA</td><td>3.3</td><td>óbito</td></tr><tr><th>13</th><td>12/14/2020</td><td>12/12/2020</td><td>SEPETIBA</td><td>5.3</td><td>recuperado</td></tr><tr><th>14</th><td>12/07/2020</td><td>11/29/2020</td><td>BARRA DA TIJUCA</td><td>4.0</td><td>recuperado</td></tr><tr><th>15</th><td>12/13/2020</td><td>12/12/2020</td><td>BANGU</td><td>5.1</td><td>recuperado</td></tr><tr><th>16</th><td>12/21/2020</td><td>12/07/2020</td><td>BANGU</td><td>5.1</td><td>recuperado</td></tr><tr><th>17</th><td>12/28/2020</td><td>12/28/2020</td><td>CATUMBI</td><td>1.0</td><td>óbito</td></tr><tr><th>18</th><td>12/28/2020</td><td>12/16/2020</td><td>PENHA</td><td>3.1</td><td>recuperado</td></tr><tr><th>19</th><td>12/23/2020</td><td>12/22/2020</td><td>CAMPO GRANDE</td><td>5.2</td><td>óbito</td></tr><tr><th>20</th><td>12/07/2020</td><td>11/28/2020</td><td>BARRA DA TIJUCA</td><td>4.0</td><td>recuperado</td></tr><tr><th>21</th><td>12/31/2020</td><td>12/22/2020</td><td>PAVUNA</td><td>3.3</td><td>óbito</td></tr><tr><th>22</th><td>12/28/2020</td><td>12/10/2020</td><td>RIO COMPRIDO</td><td>1.0</td><td>recuperado</td></tr><tr><th>23</th><td>12/23/2020</td><td>12/12/2020</td><td>ROCHA MIRANDA</td><td>3.3</td><td>recuperado</td></tr><tr><th>24</th><td>12/29/2020</td><td>12/29/2020</td><td>CAMPO GRANDE</td><td>5.2</td><td>recuperado</td></tr><tr><th>25</th><td>12/23/2020</td><td>12/15/2020</td><td>TAQUARA</td><td>4.0</td><td>óbito</td></tr><tr><th>26</th><td>12/31/2020</td><td>12/11/2020</td><td>TIJUCA</td><td>2.2</td><td>óbito</td></tr><tr><th>27</th><td>12/19/2020</td><td>12/10/2020</td><td>ANDARAI</td><td>2.2</td><td>recuperado</td></tr><tr><th>28</th><td>12/10/2020</td><td>11/28/2020</td><td>MONERO</td><td>3.1</td><td>óbito</td></tr><tr><th>29</th><td>12/30/2020</td><td>12/26/2020</td><td>IPANEMA</td><td>2.1</td><td>óbito</td></tr><tr><th>30</th><td>12/30/2020</td><td>12/24/2020</td><td>BRAS DE PINA</td><td>3.1</td><td>recuperado</td></tr><tr><th>&vellip;</th><td>&vellip;</td><td>&vellip;</td><td>&vellip;</td><td>&vellip;</td><td>&vellip;</td></tr></tbody></table></div>"
      ],
      "text/latex": [
       "\\begin{tabular}{r|cccccc}\n",
       "\t& dt\\_notific & dt\\_inicio\\_sintomas & bairro\\_resid\\_\\_estadia & ap\\_residencia\\_estadia & evolucao & \\\\\n",
       "\t\\hline\n",
       "\t& String15? & String15 & String31 & Float64 & String15? & \\\\\n",
       "\t\\hline\n",
       "\t1 & 06/11/2020 & 05/28/2020 & COSMOS & 5.2 & óbito & $\\dots$ \\\\\n",
       "\t2 & 12/19/2020 & 12/18/2020 & TIJUCA & 2.2 & recuperado & $\\dots$ \\\\\n",
       "\t3 & 12/14/2020 & 12/14/2020 & TIJUCA & 2.2 & óbito & $\\dots$ \\\\\n",
       "\t4 & 11/30/2020 & 11/23/2020 & ROCHA MIRANDA & 3.3 & recuperado & $\\dots$ \\\\\n",
       "\t5 & 12/10/2020 & 12/01/2020 & BENTO RIBEIRO & 3.3 & recuperado & $\\dots$ \\\\\n",
       "\t6 & 12/18/2020 & 12/15/2020 & CAMPO GRANDE & 5.2 & recuperado & $\\dots$ \\\\\n",
       "\t7 & 12/16/2020 & 12/12/2020 & COSMOS & 5.2 & recuperado & $\\dots$ \\\\\n",
       "\t8 & 12/13/2020 & 12/10/2020 & TIJUCA & 2.2 & recuperado & $\\dots$ \\\\\n",
       "\t9 & 12/18/2020 & 12/11/2020 & TAQUARA & 4.0 & óbito & $\\dots$ \\\\\n",
       "\t10 & 12/07/2020 & 12/04/2020 & VASCO DA GAMA & 1.0 & recuperado & $\\dots$ \\\\\n",
       "\t11 & 12/04/2020 & 11/20/2020 & ENCANTADO & 3.2 & óbito & $\\dots$ \\\\\n",
       "\t12 & 12/15/2020 & 12/02/2020 & MADUREIRA & 3.3 & óbito & $\\dots$ \\\\\n",
       "\t13 & 12/14/2020 & 12/12/2020 & SEPETIBA & 5.3 & recuperado & $\\dots$ \\\\\n",
       "\t14 & 12/07/2020 & 11/29/2020 & BARRA DA TIJUCA & 4.0 & recuperado & $\\dots$ \\\\\n",
       "\t15 & 12/13/2020 & 12/12/2020 & BANGU & 5.1 & recuperado & $\\dots$ \\\\\n",
       "\t16 & 12/21/2020 & 12/07/2020 & BANGU & 5.1 & recuperado & $\\dots$ \\\\\n",
       "\t17 & 12/28/2020 & 12/28/2020 & CATUMBI & 1.0 & óbito & $\\dots$ \\\\\n",
       "\t18 & 12/28/2020 & 12/16/2020 & PENHA & 3.1 & recuperado & $\\dots$ \\\\\n",
       "\t19 & 12/23/2020 & 12/22/2020 & CAMPO GRANDE & 5.2 & óbito & $\\dots$ \\\\\n",
       "\t20 & 12/07/2020 & 11/28/2020 & BARRA DA TIJUCA & 4.0 & recuperado & $\\dots$ \\\\\n",
       "\t21 & 12/31/2020 & 12/22/2020 & PAVUNA & 3.3 & óbito & $\\dots$ \\\\\n",
       "\t22 & 12/28/2020 & 12/10/2020 & RIO COMPRIDO & 1.0 & recuperado & $\\dots$ \\\\\n",
       "\t23 & 12/23/2020 & 12/12/2020 & ROCHA MIRANDA & 3.3 & recuperado & $\\dots$ \\\\\n",
       "\t24 & 12/29/2020 & 12/29/2020 & CAMPO GRANDE & 5.2 & recuperado & $\\dots$ \\\\\n",
       "\t25 & 12/23/2020 & 12/15/2020 & TAQUARA & 4.0 & óbito & $\\dots$ \\\\\n",
       "\t26 & 12/31/2020 & 12/11/2020 & TIJUCA & 2.2 & óbito & $\\dots$ \\\\\n",
       "\t27 & 12/19/2020 & 12/10/2020 & ANDARAI & 2.2 & recuperado & $\\dots$ \\\\\n",
       "\t28 & 12/10/2020 & 11/28/2020 & MONERO & 3.1 & óbito & $\\dots$ \\\\\n",
       "\t29 & 12/30/2020 & 12/26/2020 & IPANEMA & 2.1 & óbito & $\\dots$ \\\\\n",
       "\t30 & 12/30/2020 & 12/24/2020 & BRAS DE PINA & 3.1 & recuperado & $\\dots$ \\\\\n",
       "\t$\\dots$ & $\\dots$ & $\\dots$ & $\\dots$ & $\\dots$ & $\\dots$ &  \\\\\n",
       "\\end{tabular}\n"
      ],
      "text/plain": [
       "\u001b[1m442035×8 DataFrame\u001b[0m\n",
       "\u001b[1m    Row \u001b[0m│\u001b[1m dt_notific \u001b[0m\u001b[1m dt_inicio_sintomas \u001b[0m\u001b[1m bairro_resid__estadia \u001b[0m\u001b[1m ap_residencia\u001b[0m ⋯\n",
       "\u001b[1m        \u001b[0m│\u001b[90m String15?  \u001b[0m\u001b[90m String15           \u001b[0m\u001b[90m String31              \u001b[0m\u001b[90m Float64      \u001b[0m ⋯\n",
       "────────┼───────────────────────────────────────────────────────────────────────\n",
       "      1 │ 06/11/2020  05/28/2020          COSMOS                               ⋯\n",
       "      2 │ 12/19/2020  12/18/2020          TIJUCA\n",
       "      3 │ 12/14/2020  12/14/2020          TIJUCA\n",
       "      4 │ 11/30/2020  11/23/2020          ROCHA MIRANDA\n",
       "      5 │ 12/10/2020  12/01/2020          BENTO RIBEIRO                        ⋯\n",
       "      6 │ 12/18/2020  12/15/2020          CAMPO GRANDE\n",
       "      7 │ 12/16/2020  12/12/2020          COSMOS\n",
       "      8 │ 12/13/2020  12/10/2020          TIJUCA\n",
       "      9 │ 12/18/2020  12/11/2020          TAQUARA                              ⋯\n",
       "     10 │ 12/07/2020  12/04/2020          VASCO DA GAMA\n",
       "     11 │ 12/04/2020  11/20/2020          ENCANTADO\n",
       "   ⋮    │     ⋮               ⋮                     ⋮                      ⋮   ⋱\n",
       " 442026 │ 07/28/2021  07/20/2021          CATUMBI\n",
       " 442027 │ 07/21/2021  07/17/2021          TANQUE                               ⋯\n",
       " 442028 │ 07/28/2021  07/21/2021          CATUMBI\n",
       " 442029 │ 04/06/2021  04/02/2021          TURIAÇU\n",
       " 442030 │ 07/28/2021  07/26/2021          GUARATIBA\n",
       " 442031 │ 07/29/2021  07/25/2021          INHAUMA                              ⋯\n",
       " 442032 │ 07/29/2021  07/23/2021          ANCHIETA\n",
       " 442033 │ 07/29/2021  07/26/2021          ENGENHO NOVO\n",
       " 442034 │ 07/29/2021  07/27/2021          INHOAIBA\n",
       " 442035 │ 06/30/2021  06/28/2021          IRAJA                                ⋯\n",
       "\u001b[36m                                               5 columns and 442014 rows omitted\u001b[0m"
      ]
     },
     "execution_count": 2,
     "metadata": {},
     "output_type": "execute_result"
    }
   ],
   "source": [
    "df = DataFrame(CSV.File(\"Dados_CEP_MRJ_covid_19.csv\"))"
   ]
  },
  {
   "cell_type": "markdown",
   "metadata": {},
   "source": [
    "### 1.1; Tamanho"
   ]
  },
  {
   "cell_type": "code",
   "execution_count": 3,
   "metadata": {},
   "outputs": [
    {
     "name": "stdout",
     "output_type": "stream",
     "text": [
      "Tamanho: 17.22 Mb\n"
     ]
    }
   ],
   "source": [
    "println(\"Tamanho: $(round(Base.summarysize(df)/1024/1024, digits=2)) Mb\")"
   ]
  },
  {
   "cell_type": "markdown",
   "metadata": {},
   "source": [
    "### 1.2; Campos"
   ]
  },
  {
   "cell_type": "code",
   "execution_count": 4,
   "metadata": {},
   "outputs": [
    {
     "data": {
      "text/plain": [
       "8-element Vector{String}:\n",
       " \"dt_notific\"\n",
       " \"dt_inicio_sintomas\"\n",
       " \"bairro_resid__estadia\"\n",
       " \"ap_residencia_estadia\"\n",
       " \"evolucao\"\n",
       " \"dt_evolucao\"\n",
       " \"cep\"\n",
       " \"data_atualizacao\""
      ]
     },
     "execution_count": 4,
     "metadata": {},
     "output_type": "execute_result"
    }
   ],
   "source": [
    "names(df)"
   ]
  },
  {
   "cell_type": "code",
   "execution_count": 5,
   "metadata": {},
   "outputs": [
    {
     "data": {
      "text/plain": [
       "Set{String15} with 2 elements:\n",
       "  \"11/08/2021\"\n",
       "  \"08/11/2021\""
      ]
     },
     "execution_count": 5,
     "metadata": {},
     "output_type": "execute_result"
    }
   ],
   "source": [
    "Set(df[:, \"data_atualizacao\"])"
   ]
  },
  {
   "cell_type": "code",
   "execution_count": 6,
   "metadata": {},
   "outputs": [
    {
     "data": {
      "text/plain": [
       "\"08/11/2021\""
      ]
     },
     "execution_count": 6,
     "metadata": {},
     "output_type": "execute_result"
    }
   ],
   "source": [
    "df[1,\"data_atualizacao\"]"
   ]
  },
  {
   "cell_type": "code",
   "execution_count": 7,
   "metadata": {},
   "outputs": [
    {
     "data": {
      "text/plain": [
       "2021-11-08"
      ]
     },
     "execution_count": 7,
     "metadata": {},
     "output_type": "execute_result"
    }
   ],
   "source": [
    "DataFinal = Date(df[1, \"data_atualizacao\"], \"d/m/y\")"
   ]
  },
  {
   "cell_type": "markdown",
   "metadata": {},
   "source": [
    "### 1.3; Atualizando apenas com campos de interesse"
   ]
  },
  {
   "cell_type": "code",
   "execution_count": 8,
   "metadata": {},
   "outputs": [
    {
     "data": {
      "text/html": [
       "<div class=\"data-frame\"><p>442,035 rows × 3 columns</p><table class=\"data-frame\"><thead><tr><th></th><th>dt_inicio_sintomas</th><th>evolucao</th><th>dt_evolucao</th></tr><tr><th></th><th title=\"String15\">String15</th><th title=\"Union{Missing, String15}\">String15?</th><th title=\"Union{Missing, String15}\">String15?</th></tr></thead><tbody><tr><th>1</th><td>05/28/2020</td><td>óbito</td><td>12/31/2020</td></tr><tr><th>2</th><td>12/18/2020</td><td>recuperado</td><td>12/31/2020</td></tr><tr><th>3</th><td>12/14/2020</td><td>óbito</td><td>12/31/2020</td></tr><tr><th>4</th><td>11/23/2020</td><td>recuperado</td><td>12/31/2020</td></tr><tr><th>5</th><td>12/01/2020</td><td>recuperado</td><td>12/31/2020</td></tr><tr><th>6</th><td>12/15/2020</td><td>recuperado</td><td>12/31/2020</td></tr><tr><th>7</th><td>12/12/2020</td><td>recuperado</td><td>12/31/2020</td></tr><tr><th>8</th><td>12/10/2020</td><td>recuperado</td><td>12/31/2020</td></tr><tr><th>9</th><td>12/11/2020</td><td>óbito</td><td>12/31/2020</td></tr><tr><th>10</th><td>12/04/2020</td><td>recuperado</td><td>12/31/2020</td></tr><tr><th>11</th><td>11/20/2020</td><td>óbito</td><td>12/31/2020</td></tr><tr><th>12</th><td>12/02/2020</td><td>óbito</td><td>12/31/2020</td></tr><tr><th>13</th><td>12/12/2020</td><td>recuperado</td><td>12/31/2020</td></tr><tr><th>14</th><td>11/29/2020</td><td>recuperado</td><td>12/31/2020</td></tr><tr><th>15</th><td>12/12/2020</td><td>recuperado</td><td>12/31/2020</td></tr><tr><th>16</th><td>12/07/2020</td><td>recuperado</td><td>12/31/2020</td></tr><tr><th>17</th><td>12/28/2020</td><td>óbito</td><td>12/31/2020</td></tr><tr><th>18</th><td>12/16/2020</td><td>recuperado</td><td>12/31/2020</td></tr><tr><th>19</th><td>12/22/2020</td><td>óbito</td><td>12/31/2020</td></tr><tr><th>20</th><td>11/28/2020</td><td>recuperado</td><td>12/31/2020</td></tr><tr><th>21</th><td>12/22/2020</td><td>óbito</td><td>12/31/2020</td></tr><tr><th>22</th><td>12/10/2020</td><td>recuperado</td><td>12/31/2020</td></tr><tr><th>23</th><td>12/12/2020</td><td>recuperado</td><td>12/31/2020</td></tr><tr><th>24</th><td>12/29/2020</td><td>recuperado</td><td>12/31/2020</td></tr><tr><th>25</th><td>12/15/2020</td><td>óbito</td><td>12/31/2020</td></tr><tr><th>26</th><td>12/11/2020</td><td>óbito</td><td>12/31/2020</td></tr><tr><th>27</th><td>12/10/2020</td><td>recuperado</td><td>12/31/2020</td></tr><tr><th>28</th><td>11/28/2020</td><td>óbito</td><td>12/31/2020</td></tr><tr><th>29</th><td>12/26/2020</td><td>óbito</td><td>12/31/2020</td></tr><tr><th>30</th><td>12/24/2020</td><td>recuperado</td><td>12/31/2020</td></tr><tr><th>&vellip;</th><td>&vellip;</td><td>&vellip;</td><td>&vellip;</td></tr></tbody></table></div>"
      ],
      "text/latex": [
       "\\begin{tabular}{r|ccc}\n",
       "\t& dt\\_inicio\\_sintomas & evolucao & dt\\_evolucao\\\\\n",
       "\t\\hline\n",
       "\t& String15 & String15? & String15?\\\\\n",
       "\t\\hline\n",
       "\t1 & 05/28/2020 & óbito & 12/31/2020 \\\\\n",
       "\t2 & 12/18/2020 & recuperado & 12/31/2020 \\\\\n",
       "\t3 & 12/14/2020 & óbito & 12/31/2020 \\\\\n",
       "\t4 & 11/23/2020 & recuperado & 12/31/2020 \\\\\n",
       "\t5 & 12/01/2020 & recuperado & 12/31/2020 \\\\\n",
       "\t6 & 12/15/2020 & recuperado & 12/31/2020 \\\\\n",
       "\t7 & 12/12/2020 & recuperado & 12/31/2020 \\\\\n",
       "\t8 & 12/10/2020 & recuperado & 12/31/2020 \\\\\n",
       "\t9 & 12/11/2020 & óbito & 12/31/2020 \\\\\n",
       "\t10 & 12/04/2020 & recuperado & 12/31/2020 \\\\\n",
       "\t11 & 11/20/2020 & óbito & 12/31/2020 \\\\\n",
       "\t12 & 12/02/2020 & óbito & 12/31/2020 \\\\\n",
       "\t13 & 12/12/2020 & recuperado & 12/31/2020 \\\\\n",
       "\t14 & 11/29/2020 & recuperado & 12/31/2020 \\\\\n",
       "\t15 & 12/12/2020 & recuperado & 12/31/2020 \\\\\n",
       "\t16 & 12/07/2020 & recuperado & 12/31/2020 \\\\\n",
       "\t17 & 12/28/2020 & óbito & 12/31/2020 \\\\\n",
       "\t18 & 12/16/2020 & recuperado & 12/31/2020 \\\\\n",
       "\t19 & 12/22/2020 & óbito & 12/31/2020 \\\\\n",
       "\t20 & 11/28/2020 & recuperado & 12/31/2020 \\\\\n",
       "\t21 & 12/22/2020 & óbito & 12/31/2020 \\\\\n",
       "\t22 & 12/10/2020 & recuperado & 12/31/2020 \\\\\n",
       "\t23 & 12/12/2020 & recuperado & 12/31/2020 \\\\\n",
       "\t24 & 12/29/2020 & recuperado & 12/31/2020 \\\\\n",
       "\t25 & 12/15/2020 & óbito & 12/31/2020 \\\\\n",
       "\t26 & 12/11/2020 & óbito & 12/31/2020 \\\\\n",
       "\t27 & 12/10/2020 & recuperado & 12/31/2020 \\\\\n",
       "\t28 & 11/28/2020 & óbito & 12/31/2020 \\\\\n",
       "\t29 & 12/26/2020 & óbito & 12/31/2020 \\\\\n",
       "\t30 & 12/24/2020 & recuperado & 12/31/2020 \\\\\n",
       "\t$\\dots$ & $\\dots$ & $\\dots$ & $\\dots$ \\\\\n",
       "\\end{tabular}\n"
      ],
      "text/plain": [
       "\u001b[1m442035×3 DataFrame\u001b[0m\n",
       "\u001b[1m    Row \u001b[0m│\u001b[1m dt_inicio_sintomas \u001b[0m\u001b[1m evolucao   \u001b[0m\u001b[1m dt_evolucao \u001b[0m\n",
       "\u001b[1m        \u001b[0m│\u001b[90m String15           \u001b[0m\u001b[90m String15?  \u001b[0m\u001b[90m String15?   \u001b[0m\n",
       "────────┼─────────────────────────────────────────────\n",
       "      1 │ 05/28/2020          óbito       12/31/2020\n",
       "      2 │ 12/18/2020          recuperado  12/31/2020\n",
       "      3 │ 12/14/2020          óbito       12/31/2020\n",
       "      4 │ 11/23/2020          recuperado  12/31/2020\n",
       "      5 │ 12/01/2020          recuperado  12/31/2020\n",
       "      6 │ 12/15/2020          recuperado  12/31/2020\n",
       "      7 │ 12/12/2020          recuperado  12/31/2020\n",
       "      8 │ 12/10/2020          recuperado  12/31/2020\n",
       "      9 │ 12/11/2020          óbito       12/31/2020\n",
       "     10 │ 12/04/2020          recuperado  12/31/2020\n",
       "     11 │ 11/20/2020          óbito       12/31/2020\n",
       "   ⋮    │         ⋮               ⋮            ⋮\n",
       " 442026 │ 07/20/2021          Recuperado \u001b[90m missing     \u001b[0m\n",
       " 442027 │ 07/17/2021          Recuperado \u001b[90m missing     \u001b[0m\n",
       " 442028 │ 07/21/2021          Recuperado \u001b[90m missing     \u001b[0m\n",
       " 442029 │ 04/02/2021          Recuperado \u001b[90m missing     \u001b[0m\n",
       " 442030 │ 07/26/2021          Recuperado \u001b[90m missing     \u001b[0m\n",
       " 442031 │ 07/25/2021          Recuperado \u001b[90m missing     \u001b[0m\n",
       " 442032 │ 07/23/2021          Recuperado \u001b[90m missing     \u001b[0m\n",
       " 442033 │ 07/26/2021          Recuperado \u001b[90m missing     \u001b[0m\n",
       " 442034 │ 07/27/2021          Recuperado \u001b[90m missing     \u001b[0m\n",
       " 442035 │ 06/28/2021          Recuperado \u001b[90m missing     \u001b[0m\n",
       "\u001b[36m                                   442014 rows omitted\u001b[0m"
      ]
     },
     "execution_count": 8,
     "metadata": {},
     "output_type": "execute_result"
    }
   ],
   "source": [
    "df = select(df, \"dt_inicio_sintomas\", \"evolucao\", \"dt_evolucao\")"
   ]
  },
  {
   "cell_type": "code",
   "execution_count": 9,
   "metadata": {},
   "outputs": [
    {
     "name": "stdout",
     "output_type": "stream",
     "text": [
      "Tamanho: 5.25 Mb\n"
     ]
    }
   ],
   "source": [
    "println(\"Tamanho: $(round(Base.summarysize(df)/1024/1024, digits=2)) Mb\")"
   ]
  },
  {
   "cell_type": "markdown",
   "metadata": {},
   "source": [
    "## 2; Exploração dos dados\n",
    "\n",
    "### 2.1; Formato das datas"
   ]
  },
  {
   "cell_type": "code",
   "execution_count": 10,
   "metadata": {},
   "outputs": [
    {
     "name": "stdout",
     "output_type": "stream",
     "text": [
      "0\n"
     ]
    }
   ],
   "source": [
    "NUM = 0\n",
    "\n",
    "for row in eachrow(df)\n",
    "    if row[1] !== missing\n",
    "        if parse(Int8,row[1][1:2]) > 12\n",
    "            NUM += 1\n",
    "        end\n",
    "    end\n",
    "    if row[3] !== missing\n",
    "        if parse(Int8,row[3][1:2]) > 12\n",
    "            NUM += 1\n",
    "        end\n",
    "    end\n",
    "end\n",
    "\n",
    "println(NUM)"
   ]
  },
  {
   "cell_type": "markdown",
   "metadata": {},
   "source": [
    "- Ao que tudo indica, todas as datas pertinentes estão no formato `mm/dd/yyyy`, a despeito do formato da entrada `dt_atualizacao`, que pode variar."
   ]
  },
  {
   "cell_type": "markdown",
   "metadata": {},
   "source": [
    "### 2.2; Data Inicial"
   ]
  },
  {
   "cell_type": "code",
   "execution_count": 11,
   "metadata": {},
   "outputs": [
    {
     "data": {
      "text/plain": [
       "1945-03-23"
      ]
     },
     "execution_count": 11,
     "metadata": {},
     "output_type": "execute_result"
    }
   ],
   "source": [
    "DataInicial = minimum(Date.(df[:,\"dt_inicio_sintomas\"],\"m/d/y\"))"
   ]
  },
  {
   "cell_type": "code",
   "execution_count": 12,
   "metadata": {},
   "outputs": [
    {
     "data": {
      "text/html": [
       "<div class=\"data-frame\"><p>1 rows × 3 columns</p><table class=\"data-frame\"><thead><tr><th></th><th>dt_inicio_sintomas</th><th>evolucao</th><th>dt_evolucao</th></tr><tr><th></th><th title=\"String15\">String15</th><th title=\"Union{Missing, String15}\">String15?</th><th title=\"Union{Missing, String15}\">String15?</th></tr></thead><tbody><tr><th>1</th><td>03/23/1945</td><td>Recuperado</td><td><em>missing</em></td></tr></tbody></table></div>"
      ],
      "text/latex": [
       "\\begin{tabular}{r|ccc}\n",
       "\t& dt\\_inicio\\_sintomas & evolucao & dt\\_evolucao\\\\\n",
       "\t\\hline\n",
       "\t& String15 & String15? & String15?\\\\\n",
       "\t\\hline\n",
       "\t1 & 03/23/1945 & Recuperado & \\emph{missing} \\\\\n",
       "\\end{tabular}\n"
      ],
      "text/plain": [
       "\u001b[1m1×3 DataFrame\u001b[0m\n",
       "\u001b[1m Row \u001b[0m│\u001b[1m dt_inicio_sintomas \u001b[0m\u001b[1m evolucao   \u001b[0m\u001b[1m dt_evolucao \u001b[0m\n",
       "\u001b[1m     \u001b[0m│\u001b[90m String15           \u001b[0m\u001b[90m String15?  \u001b[0m\u001b[90m String15?   \u001b[0m\n",
       "─────┼─────────────────────────────────────────────\n",
       "   1 │ 03/23/1945          Recuperado \u001b[90m missing     \u001b[0m"
      ]
     },
     "execution_count": 12,
     "metadata": {},
     "output_type": "execute_result"
    }
   ],
   "source": [
    "df[df[:,\"dt_inicio_sintomas\"] .=== String15(\"03/23/1945\"),:]"
   ]
  },
  {
   "cell_type": "code",
   "execution_count": 13,
   "metadata": {},
   "outputs": [
    {
     "data": {
      "text/html": [
       "<div class=\"data-frame\"><p>7 rows × 3 columns</p><table class=\"data-frame\"><thead><tr><th></th><th>dt_inicio_sintomas</th><th>evolucao</th><th>dt_evolucao</th></tr><tr><th></th><th title=\"String15\">String15</th><th title=\"Union{Missing, String15}\">String15?</th><th title=\"Union{Missing, String15}\">String15?</th></tr></thead><tbody><tr><th>1</th><td>10/11/2012</td><td>Recuperado</td><td><em>missing</em></td></tr><tr><th>2</th><td>03/23/2005</td><td>Recuperado</td><td><em>missing</em></td></tr><tr><th>3</th><td>05/24/2007</td><td>Recuperado</td><td><em>missing</em></td></tr><tr><th>4</th><td>03/23/1945</td><td>Recuperado</td><td><em>missing</em></td></tr><tr><th>5</th><td>10/10/2018</td><td>Recuperado</td><td><em>missing</em></td></tr><tr><th>6</th><td>01/28/2008</td><td>Recuperado</td><td><em>missing</em></td></tr><tr><th>7</th><td>04/17/2006</td><td>Recuperado</td><td><em>missing</em></td></tr></tbody></table></div>"
      ],
      "text/latex": [
       "\\begin{tabular}{r|ccc}\n",
       "\t& dt\\_inicio\\_sintomas & evolucao & dt\\_evolucao\\\\\n",
       "\t\\hline\n",
       "\t& String15 & String15? & String15?\\\\\n",
       "\t\\hline\n",
       "\t1 & 10/11/2012 & Recuperado & \\emph{missing} \\\\\n",
       "\t2 & 03/23/2005 & Recuperado & \\emph{missing} \\\\\n",
       "\t3 & 05/24/2007 & Recuperado & \\emph{missing} \\\\\n",
       "\t4 & 03/23/1945 & Recuperado & \\emph{missing} \\\\\n",
       "\t5 & 10/10/2018 & Recuperado & \\emph{missing} \\\\\n",
       "\t6 & 01/28/2008 & Recuperado & \\emph{missing} \\\\\n",
       "\t7 & 04/17/2006 & Recuperado & \\emph{missing} \\\\\n",
       "\\end{tabular}\n"
      ],
      "text/plain": [
       "\u001b[1m7×3 DataFrame\u001b[0m\n",
       "\u001b[1m Row \u001b[0m│\u001b[1m dt_inicio_sintomas \u001b[0m\u001b[1m evolucao   \u001b[0m\u001b[1m dt_evolucao \u001b[0m\n",
       "\u001b[1m     \u001b[0m│\u001b[90m String15           \u001b[0m\u001b[90m String15?  \u001b[0m\u001b[90m String15?   \u001b[0m\n",
       "─────┼─────────────────────────────────────────────\n",
       "   1 │ 10/11/2012          Recuperado \u001b[90m missing     \u001b[0m\n",
       "   2 │ 03/23/2005          Recuperado \u001b[90m missing     \u001b[0m\n",
       "   3 │ 05/24/2007          Recuperado \u001b[90m missing     \u001b[0m\n",
       "   4 │ 03/23/1945          Recuperado \u001b[90m missing     \u001b[0m\n",
       "   5 │ 10/10/2018          Recuperado \u001b[90m missing     \u001b[0m\n",
       "   6 │ 01/28/2008          Recuperado \u001b[90m missing     \u001b[0m\n",
       "   7 │ 04/17/2006          Recuperado \u001b[90m missing     \u001b[0m"
      ]
     },
     "execution_count": 13,
     "metadata": {},
     "output_type": "execute_result"
    }
   ],
   "source": [
    "df[(Date.(df[:,\"dt_inicio_sintomas\"],\"m/d/y\") .< Date.(\"01/01/2020\",\"m/d/y\")),:]"
   ]
  },
  {
   "cell_type": "code",
   "execution_count": null,
   "metadata": {},
   "outputs": [],
   "source": [
    "df = df[(Date.(df[:,\"dt_inicio_sintomas\"],\"m/d/y\") .>= Date.(\"01/01/2020\",\"m/d/y\")),:]\n",
    "\n",
    "DataInicial = minimum(Date.(df[:,\"dt_inicio_sintomas\"],\"m/d/y\"))\n",
    "\n",
    "@show DataInicial\n",
    "\n",
    "df[(Date.(df[:,\"dt_inicio_sintomas\"],\"m/d/y\") .< Date.(\"02/01/2020\",\"m/d/y\")),:]"
   ]
  },
  {
   "cell_type": "markdown",
   "metadata": {},
   "source": [
    "### 2.3; Tipos de evolução"
   ]
  },
  {
   "cell_type": "code",
   "execution_count": null,
   "metadata": {},
   "outputs": [],
   "source": [
    "Set(df[:,\"evolucao\"])"
   ]
  },
  {
   "cell_type": "code",
   "execution_count": null,
   "metadata": {},
   "outputs": [],
   "source": [
    "df[df[:,\"evolucao\"].===String15(\"recuperado\"),\"evolucao\"] .= \"RECUPERADO\"\n",
    "df[df[:,\"evolucao\"].===String15(\"Recuperado\"),\"evolucao\"] .= \"RECUPERADO\"\n",
    "df[df[:,\"evolucao\"].===String15(\"Ativo\"),\"evolucao\"] .= \"ATIVO\"\n",
    "df[df[:,\"evolucao\"].===String15(\"ativo\"),\"evolucao\"] .= \"ATIVO\"\n",
    "df[df[:,\"evolucao\"].===String15(\"óbito\"),\"evolucao\"] .= \"OBITO\"\n",
    "\n",
    "Set(df[:,\"evolucao\"])"
   ]
  },
  {
   "cell_type": "code",
   "execution_count": null,
   "metadata": {
    "scrolled": false
   },
   "outputs": [],
   "source": [
    "@show sum(df[:,\"evolucao\"] .=== missing)\n",
    "df[df[:,\"evolucao\"] .=== missing,:]"
   ]
  },
  {
   "cell_type": "markdown",
   "metadata": {},
   "source": [
    "- O que são esses dados? \n",
    "\n",
    "\n",
    "- Como são muito poucos ($62\\ll 442035$) e suficientemente espalhados, **optaremos por descartá-los**."
   ]
  },
  {
   "cell_type": "code",
   "execution_count": null,
   "metadata": {},
   "outputs": [],
   "source": [
    "df = df[df[:,\"evolucao\"] .!== missing, :]\n",
    "Set(df[:,\"evolucao\"])"
   ]
  },
  {
   "cell_type": "markdown",
   "metadata": {},
   "source": [
    "### 2.4; Falsos casos ativos"
   ]
  },
  {
   "cell_type": "code",
   "execution_count": null,
   "metadata": {},
   "outputs": [],
   "source": [
    "Set(df[(df[:,\"evolucao\"].===String15(\"ATIVO\")),\"dt_evolucao\"])"
   ]
  },
  {
   "cell_type": "markdown",
   "metadata": {},
   "source": [
    "- Observe que todos os casos ativos não possuem registro de data de evolução do quadro, o que faz sentido. \n",
    "\n",
    "\n",
    "- Apesar disso, estes casos possuem registros de início de sintomas espalhados durante todo período da pandemia:"
   ]
  },
  {
   "cell_type": "code",
   "execution_count": null,
   "metadata": {
    "scrolled": false
   },
   "outputs": [],
   "source": [
    "Set(df[(df[:,\"evolucao\"].===String15(\"ATIVO\")),\"dt_inicio_sintomas\"])"
   ]
  },
  {
   "cell_type": "code",
   "execution_count": null,
   "metadata": {},
   "outputs": [],
   "source": [
    "NumDiasInicioAoFim = DataFinal - DataInicial + Day(1)\n",
    "\n",
    "NumDiasInicioAoFimValor = NumDiasInicioAoFim.value\n",
    "\n",
    "Datas = DataInicial .+ Day.(0:NumDiasInicioAoFimValor-1)\n",
    "\n",
    "CasosAtivosEmCadaData = fill(0,NumDiasInicioAoFimValor)\n",
    "\n",
    "for data in Datas\n",
    "    IndiceData = (data - DataInicial + Day(1)).value\n",
    "    CasosAtivosEmCadaData[IndiceData] = sum((df[:,\"evolucao\"].===String15(\"ATIVO\")) .& (df[:,\"dt_inicio_sintomas\"].===String15(Dates.format(data,\"mm/dd/yyyy\"))))\n",
    "end\n",
    "\n",
    "pl = plot(Datas,CasosAtivosEmCadaData,label=\"\")\n",
    "plot!(pl,title=\"Início dos sintomas dos casos ativos\",titlefontsize=11,\n",
    "    xlabel=\"Data\",ylabel=\"Número de indivíduos\",legend=:topleft)\n",
    "display(pl)\n",
    "\n",
    "pl = plot(Datas,CasosAtivosEmCadaData,label=\"\")\n",
    "plot!(pl,title=\"Início dos sintomas dos casos ativos\",titlefontsize=11,xlabel=\"Data\",ylabel=\"Número de indivíduos\",\n",
    "    legend=:topleft,xlim=(Date(\"09/01/2021\",\"m/d/y\"),Date(\"11/08/2021\",\"m/d/y\")))"
   ]
  },
  {
   "cell_type": "markdown",
   "metadata": {},
   "source": [
    "- Supondo que estes indivíduos permaneceram infectados destas datas até a data de atualização da planilha, teríamos a existência de muitos indivíduos infectados por mais do que um ano, o que seria muito estranho.\n",
    "\n",
    "\n",
    "- Desta forma, **podemos considerar que os indíviduos \"ativos\" mais antigos são na verdade indivíduos recuperados** cuja evolução do quadro não foi devidamente registrada.\n",
    "\n",
    "\n",
    "- Perceba que existe uma explosão nos casos ativos no final do período considerado. **Estes serão considerados verdadeiros ativos**."
   ]
  },
  {
   "cell_type": "code",
   "execution_count": null,
   "metadata": {},
   "outputs": [],
   "source": [
    "CasosAtivosEmCadaData[(Date(\"10/25/2021\",\"m/d/y\") - DataInicial + Day(1)).value]"
   ]
  },
  {
   "cell_type": "code",
   "execution_count": null,
   "metadata": {},
   "outputs": [],
   "source": [
    "CasosAtivosEmCadaData[(Date(\"10/26/2021\",\"m/d/y\") - DataInicial + Day(1)).value]"
   ]
  },
  {
   "cell_type": "code",
   "execution_count": null,
   "metadata": {},
   "outputs": [],
   "source": [
    "df[(df[:,\"evolucao\"].===String15(\"ATIVO\")) .&\n",
    "    (Date.(df[:,\"dt_inicio_sintomas\"],\"m/d/y\").<Date(\"10/26/2021\",\"m/d/y\")),\"evolucao\"] .= \"RECUPERADO\"\n",
    "\n",
    "nothing"
   ]
  },
  {
   "cell_type": "markdown",
   "metadata": {},
   "source": [
    "### 2.5; Datas de evolução não registradas"
   ]
  },
  {
   "cell_type": "code",
   "execution_count": null,
   "metadata": {},
   "outputs": [],
   "source": [
    "sum(df[:,\"dt_evolucao\"] .=== missing)"
   ]
  },
  {
   "cell_type": "code",
   "execution_count": null,
   "metadata": {},
   "outputs": [],
   "source": [
    "sum((df[:,\"dt_evolucao\"] .=== missing) .& (df[:,\"evolucao\"] .=== String15(\"RECUPERADO\")))"
   ]
  },
  {
   "cell_type": "code",
   "execution_count": null,
   "metadata": {},
   "outputs": [],
   "source": [
    "sum((df[:,\"dt_evolucao\"] .=== missing) .& (df[:,\"evolucao\"] .=== String15(\"ATIVO\")))"
   ]
  },
  {
   "cell_type": "code",
   "execution_count": null,
   "metadata": {},
   "outputs": [],
   "source": [
    "sum((df[:,\"dt_evolucao\"] .=== missing) .& (df[:,\"evolucao\"] .=== String15(\"OBITO\")))"
   ]
  },
  {
   "cell_type": "code",
   "execution_count": null,
   "metadata": {},
   "outputs": [],
   "source": [
    "sum((df[:,\"dt_evolucao\"] .=== missing) .& (df[:,\"evolucao\"] .=== String15(\"RECUPERADO\")))/\n",
    "sum(df[:,\"evolucao\"] .=== String15(\"RECUPERADO\"))"
   ]
  },
  {
   "cell_type": "code",
   "execution_count": null,
   "metadata": {},
   "outputs": [],
   "source": [
    "sum((df[:,\"dt_evolucao\"] .=== missing) .& (df[:,\"evolucao\"] .=== String15(\"ATIVO\")))/\n",
    "sum(df[:,\"evolucao\"] .=== String15(\"ATIVO\"))"
   ]
  },
  {
   "cell_type": "code",
   "execution_count": null,
   "metadata": {},
   "outputs": [],
   "source": [
    "sum((df[:,\"dt_evolucao\"] .=== missing) .& (df[:,\"evolucao\"] .=== String15(\"OBITO\")))/\n",
    "sum(df[:,\"evolucao\"] .=== String15(\"OBITO\"))"
   ]
  },
  {
   "cell_type": "markdown",
   "metadata": {},
   "source": [
    "## 3; Modelagem dos dados de dias de infecção\n",
    "\n",
    "\n",
    "- Modelando os dados de dias infecção por COVID-19 podemos completar os dados faltantes."
   ]
  },
  {
   "cell_type": "code",
   "execution_count": null,
   "metadata": {},
   "outputs": [],
   "source": [
    "dfRecuperadosDatasCompletas = df[(df[:,\"evolucao\"].===String15(\"RECUPERADO\")) .& (df[:,\"dt_evolucao\"].!==missing),:]"
   ]
  },
  {
   "cell_type": "code",
   "execution_count": null,
   "metadata": {},
   "outputs": [],
   "source": [
    "Set(Date.(dfRecuperadosDatasCompletas[:,3],\"m/d/y\"))"
   ]
  },
  {
   "cell_type": "code",
   "execution_count": null,
   "metadata": {},
   "outputs": [],
   "source": [
    "QtdDiasRecuperadosCompletos = Date.(dfRecuperadosDatasCompletas[:,3],\"m/d/y\") .- Date.(dfRecuperadosDatasCompletas[:,1],\"m/d/y\")\n",
    "QtdDiasRecuperadosCompletosValores = [qd.value for qd in QtdDiasRecuperadosCompletos]\n",
    "\n",
    "pl = histogram(QtdDiasRecuperadosCompletosValores,bins=200,normalize=true,label=\"\",xlims=(0,450))\n",
    "plot!(pl, title=\"Distribuição da quantidade de dias de infecção por COVID-19\", titlefontsize=10,\n",
    "    xlabel=\"Quantidade de dias de infecção por COVID-19\",ylabel=\"% de observações\")\n",
    "display(pl)\n",
    "\n",
    "histogram(QtdDiasRecuperadosCompletosValores,normalize=true,label=\"\",xlims=(0,100))\n",
    "plot!(title=\"Distribuição da quantidade de dias de infecção por COVID-19\", titlefontsize=10,\n",
    "    xlabel=\"Quantidade de dias de infecção por COVID-19\",ylabel=\"% de observações\")"
   ]
  },
  {
   "cell_type": "code",
   "execution_count": null,
   "metadata": {},
   "outputs": [],
   "source": [
    "dias = 0.:1.:100.\n",
    "diass = 0.:0.05:100.\n",
    "\n",
    "pl = histogram(QtdDiasRecuperadosCompletosValores,normalize=true,alpha=0.8,label=\"Dados\",xlims=(0,100))\n",
    "\n",
    "PoissonFit = fit_mle(Poisson,QtdDiasRecuperadosCompletosValores)\n",
    "plot!(pl,dias,pdf.(PoissonFit,dias),linewidth=2,label=\"Poisson ajustada\")\n",
    "\n",
    "LogNormalFit = fit_mle(LogNormal,QtdDiasRecuperadosCompletosValores.+0.01)\n",
    "plot!(pl,diass,pdf.(LogNormalFit,diass),linewidth=2,label=\"Log-Normal ajustada\")\n",
    "\n",
    "GammaFit = fit_mle(Gamma,QtdDiasRecuperadosCompletosValores.+0.01)\n",
    "plot!(pl,diass,pdf.(GammaFit,diass),linewidth=2,label=\"Gamma ajustada\")\n",
    "\n",
    "plot!(pl,title=\"Modelagem de dados de dias de infecção por COVID-19\", titlefontsize=10,\n",
    "    xlabel=\"Quantidade de dias de infecção por COVID-19\",xlabelfontsize=10,\n",
    "    ylabel=\"% de observações / Função de probabilidade\",ylabelfontsize=9)\n",
    "\n",
    "display(pl)\n",
    "\n",
    "@show mean(QtdDiasRecuperadosCompletosValores)\n",
    "@show mean(PoissonFit)\n",
    "@show mean(LogNormalFit)\n",
    "@show mean(GammaFit)\n",
    "\n",
    "nothing"
   ]
  },
  {
   "cell_type": "markdown",
   "metadata": {},
   "source": [
    "Nenhuma da distribuições apresentadas parece modelar os dados de forma satisfatória. Temos ao menos três opções para simular os dados faltantes:\n",
    "\n",
    "- Utilizar a média ($22$ dias).\n",
    "\n",
    "\n",
    "- Sortear os dados faltantes do vetor de dados completos.\n",
    "\n",
    "\n",
    "- Utilizar alguma distribuição ajustada.\n",
    "\n",
    "Experimentaremos utilizar a segunda opção."
   ]
  },
  {
   "cell_type": "code",
   "execution_count": null,
   "metadata": {},
   "outputs": [],
   "source": [
    "IndicesMissingDatas = (df[:,\"evolucao\"].===String15(\"RECUPERADO\")) .& (df[:,\"dt_evolucao\"].===missing)\n",
    "NumMissingDatas = sum((df[:,\"evolucao\"].===String15(\"RECUPERADO\")) .& (df[:,\"dt_evolucao\"].===missing))\n",
    "\n",
    "df[IndicesMissingDatas,\"dt_evolucao\"] .= \n",
    "    Dates.format.(Date.(df[IndicesMissingDatas,\"dt_inicio_sintomas\"],\"m/d/y\") .+ rand(QtdDiasRecuperadosCompletos,NumMissingDatas),\"mm/dd/yyyy\")\n",
    "\n",
    "nothing"
   ]
  },
  {
   "cell_type": "code",
   "execution_count": null,
   "metadata": {},
   "outputs": [],
   "source": [
    "QtdDiasRecuperadosTodos = Date.(df[(df[:,\"evolucao\"].===String15(\"RECUPERADO\")),3],\"m/d/y\") .-\n",
    "    Date.(df[df[:,\"evolucao\"].===String15(\"RECUPERADO\"),1],\"m/d/y\")\n",
    "QtdDiasRecuperadosTodosValores = [qd.value for qd in QtdDiasRecuperadosTodos]\n",
    "\n",
    "dias = 0.:1.:maximum(QtdDiasRecuperadosTodosValores)\n",
    "PorcentagemPorNumDias = [sum(QtdDiasRecuperadosTodosValores .== d) for d in dias]./length(QtdDiasRecuperadosTodosValores)\n",
    "\n",
    "pl = histogram(QtdDiasRecuperadosCompletosValores,normalize=true,label=\"Dados\",alpha=0.8,xlims=(0,100))\n",
    "plot!(pl,dias,PorcentagemPorNumDias,label=\"Dados+Simulação\",linewidth=2)\n",
    "plot!(pl,title=\"Distribuição da quantidade de dias de infecção por COVID-19\", titlefontsize=10,\n",
    "    xlabel=\"Quantidade de dias de infecção por COVID-19\",ylabel=\"% de ocorrências\")\n",
    "display(pl)\n",
    "\n",
    "@show mean(QtdDiasRecuperadosCompletosValores)\n",
    "@show mean(QtdDiasRecuperadosTodosValores)\n",
    "\n",
    "nothing"
   ]
  },
  {
   "cell_type": "markdown",
   "metadata": {},
   "source": [
    "## 4; Modelagem dos dados de dias de infecção até óbito\n",
    "\n",
    "- Modelando os dados de dias infecção por COVID-19 até óbito podemos completar os dados faltantes."
   ]
  },
  {
   "cell_type": "code",
   "execution_count": null,
   "metadata": {
    "scrolled": false
   },
   "outputs": [],
   "source": [
    "dfObitosDatasCompletas = df[(df[:,\"evolucao\"].===String15(\"OBITO\")) .& (df[:,\"dt_evolucao\"].!==missing),:]"
   ]
  },
  {
   "cell_type": "code",
   "execution_count": null,
   "metadata": {},
   "outputs": [],
   "source": [
    "Set(Date.(dfObitosDatasCompletas[:,3],\"m/d/y\"))"
   ]
  },
  {
   "cell_type": "code",
   "execution_count": null,
   "metadata": {
    "scrolled": false
   },
   "outputs": [],
   "source": [
    "QtdDiasObitosCompletos = Date.(dfObitosDatasCompletas[:,3],\"m/d/y\") .- Date.(dfObitosDatasCompletas[:,1],\"m/d/y\")\n",
    "QtdDiasObitosCompletosValores = [qd.value for qd in QtdDiasObitosCompletos]\n",
    "\n",
    "pl = histogram(QtdDiasObitosCompletosValores,bins=200,normalize=true,label=\"\",xlims=(0,450))\n",
    "plot!(pl, title=\"Distribuição da quantidade de dias de infecção por COVID-19 até óbito\", titlefontsize=9,\n",
    "    xlabel=\"Quantidade de dias até óbito por COVID-19\",ylabel=\"% de observações\")\n",
    "display(pl)\n",
    "\n",
    "pl = histogram(QtdDiasObitosCompletosValores,normalize=true,label=\"\",xlims=(0,100))\n",
    "plot!(pl,title=\"Distribuição da quantidade de dias de infecção por COVID-19 até óbito\", titlefontsize=9,\n",
    "    xlabel=\"Quantidade de dias até óbito por COVID-19\",ylabel=\"% de observações\")\n",
    "display(pl)\n",
    "\n",
    "@show sum(QtdDiasObitosCompletosValores.==0)\n",
    "@show sum(QtdDiasObitosCompletosValores.==0)/length(QtdDiasObitosCompletosValores)\n",
    "\n",
    "nothing"
   ]
  },
  {
   "cell_type": "markdown",
   "metadata": {},
   "source": [
    "- É razoável assumir que o pico de indíviduos que vieram a óbito com $0$ dias de infecção representa algum tipo de anomalia no processo de registro dos dados. Por isso, **vamos descartá-los e simulá-los a partir dos demais**."
   ]
  },
  {
   "cell_type": "code",
   "execution_count": null,
   "metadata": {},
   "outputs": [],
   "source": [
    "QtdDiasObitosCompletos = QtdDiasObitosCompletos[QtdDiasObitosCompletos.!==Day(0)]\n",
    "QtdDiasObitosCompletosValores = QtdDiasObitosCompletosValores[QtdDiasObitosCompletosValores.!==0]\n",
    "\n",
    "dias = 0.:1.:100.\n",
    "diass = 0.:0.05:100.\n",
    "\n",
    "pl = histogram(QtdDiasObitosCompletosValores,normalize=true,alpha=0.8,label=\"Dados\",xlims=(0,100))\n",
    "\n",
    "PoissonFit = fit_mle(Poisson,QtdDiasObitosCompletosValores)\n",
    "plot!(pl,dias,pdf.(PoissonFit,dias),linewidth=2,label=\"Poisson ajustada\")\n",
    "\n",
    "LogNormalFit = fit_mle(LogNormal,QtdDiasObitosCompletosValores.+0.1)\n",
    "plot!(pl,diass,pdf.(LogNormalFit,diass),linewidth=2,label=\"Log-Normal ajustada\")\n",
    "\n",
    "GammaFit = fit_mle(Gamma,QtdDiasObitosCompletosValores.+0.1)\n",
    "plot!(pl,diass,pdf.(GammaFit,diass),linewidth=2,label=\"Gamma ajustada\")\n",
    "\n",
    "plot!(pl,title=\"Modelagem de dados de dias de infecção por COVID-19 até óbito\", titlefontsize=9,\n",
    "    xlabel=\"Quantidade de dias até óbito por COVID-19\",xlabelfontsize=10,\n",
    "    ylabel=\"% de observações / Função de probabilidade\",ylabelfontsize=9)\n",
    "\n",
    "display(pl)\n",
    "\n",
    "@show mean(QtdDiasObitosCompletosValores)\n",
    "@show mean(PoissonFit)\n",
    "@show mean(LogNormalFit)\n",
    "@show mean(GammaFit)\n",
    "\n",
    "nothing"
   ]
  },
  {
   "cell_type": "markdown",
   "metadata": {},
   "source": [
    "Novamente, temos as três opções de antes para simular os dados faltantes:\n",
    "\n",
    "- Utilizar a média ($19$ dias).\n",
    "\n",
    "\n",
    "- Sortear os dados faltantes do vetor de dados completos.\n",
    "\n",
    "\n",
    "- Utilizar alguma distribuição ajustada.\n",
    "\n",
    "Utilizaremos mais uma vez a segunda opção."
   ]
  },
  {
   "cell_type": "code",
   "execution_count": null,
   "metadata": {
    "scrolled": false
   },
   "outputs": [],
   "source": [
    "IndicesObitosZeroDias =  (df[:,\"evolucao\"].===String15(\"OBITO\")) .& (df[:,\"dt_inicio_sintomas\"] .=== df[:,\"dt_evolucao\"])\n",
    "NumObitosZeroDias = sum(IndicesObitosZeroDias)\n",
    "@show NumObitosZeroDias\n",
    "\n",
    "df[IndicesObitosZeroDias,\"dt_evolucao\"] .= \n",
    "    Dates.format.(Date.(df[IndicesObitosZeroDias,\"dt_inicio_sintomas\"],\"m/d/y\") .+ rand(QtdDiasObitosCompletos,NumObitosZeroDias),\"mm/dd/yyyy\")\n",
    "\n",
    "nothing"
   ]
  },
  {
   "cell_type": "code",
   "execution_count": null,
   "metadata": {},
   "outputs": [],
   "source": [
    "IndicesMissingDatas = (df[:,\"evolucao\"].===String15(\"OBITO\")) .& (df[:,\"dt_evolucao\"].===missing)\n",
    "NumMissingDatas = sum(IndicesMissingDatas)\n",
    "@show NumMissingDatas\n",
    "\n",
    "df[IndicesMissingDatas,\"dt_evolucao\"] .= \n",
    "    Dates.format.(Date.(df[IndicesMissingDatas,\"dt_inicio_sintomas\"],\"m/d/y\") .+ rand(QtdDiasObitosCompletos,NumMissingDatas),\"mm/dd/yyyy\")\n",
    "\n",
    "nothing"
   ]
  },
  {
   "cell_type": "code",
   "execution_count": null,
   "metadata": {},
   "outputs": [],
   "source": [
    "QtdDiasObitosTodos = Date.(df[(df[:,\"evolucao\"].===String15(\"OBITO\")),3],\"m/d/y\") .-\n",
    "    Date.(df[df[:,\"evolucao\"].===String15(\"OBITO\"),1],\"m/d/y\")\n",
    "QtdDiasObitosTodosValores = [qd.value for qd in QtdDiasObitosTodos]\n",
    "\n",
    "dias = 0.:1.:maximum(QtdDiasObitosTodosValores)\n",
    "PorcentagemPorNumDias = [sum(QtdDiasObitosTodosValores .== d) for d in dias]./length(QtdDiasObitosTodosValores)\n",
    "\n",
    "pl = histogram(QtdDiasObitosCompletosValores,normalize=true,label=\"Dados\",alpha=0.8,xlims=(0,100))\n",
    "plot!(pl,dias,PorcentagemPorNumDias,label=\"Dados+Simulação\",linewidth=2)\n",
    "plot!(pl,title=\"Distribuição da quantidade de dias de infecção por COVID-19 até óbito\", titlefontsize=9,\n",
    "    xlabel=\"Quantidade de dias até óbito por COVID-19\",ylabel=\"% de ocorrências\")\n",
    "display(pl)\n",
    "\n",
    "@show mean(QtdDiasObitosCompletosValores)\n",
    "@show mean(QtdDiasObitosTodosValores)\n",
    "\n",
    "nothing"
   ]
  },
  {
   "cell_type": "code",
   "execution_count": null,
   "metadata": {},
   "outputs": [],
   "source": [
    "NumeroTotalCasos = length(QtdDiasObitosTodosValores)+length(QtdDiasRecuperadosTodosValores)\n",
    "ProporcaoMortes = length(QtdDiasObitosTodosValores)/NumeroTotalCasos\n",
    "TempoMedioInfeccao = mean(vcat(QtdDiasObitosTodosValores,QtdDiasRecuperadosTodosValores))\n",
    "\n",
    "@show ProporcaoMortes\n",
    "@show TempoMedioInfeccao\n",
    "\n",
    "nothing"
   ]
  },
  {
   "cell_type": "markdown",
   "metadata": {},
   "source": [
    "## 5; Construção das curvas de infectados, recuperados e óbitos "
   ]
  },
  {
   "cell_type": "code",
   "execution_count": null,
   "metadata": {},
   "outputs": [],
   "source": [
    "df[(df[:,\"evolucao\"].===String15(\"ATIVO\")),\"dt_evolucao\"] .= Dates.format(DataFinal,\"mm/dd/yyyy\")\n",
    "\n",
    "sum(Date.(df[:,\"dt_evolucao\"],\"m/d/y\") .> DataFinal)"
   ]
  },
  {
   "cell_type": "code",
   "execution_count": null,
   "metadata": {},
   "outputs": [],
   "source": [
    "sum((Date.(df[:,\"dt_evolucao\"],\"m/d/y\") .> DataFinal) .& (df[:,\"evolucao\"] .=== String15(\"RECUPERADO\")))"
   ]
  },
  {
   "cell_type": "code",
   "execution_count": null,
   "metadata": {},
   "outputs": [],
   "source": [
    "sum((Date.(df[:,\"dt_evolucao\"],\"m/d/y\") .> DataFinal) .& (df[:,\"evolucao\"] .=== String15(\"OBITO\")))"
   ]
  },
  {
   "cell_type": "code",
   "execution_count": null,
   "metadata": {},
   "outputs": [],
   "source": [
    "sum((Date.(df[:,\"dt_evolucao\"],\"m/d/y\")) .< (Date.(df[:,\"dt_inicio_sintomas\"],\"m/d/y\")))"
   ]
  },
  {
   "cell_type": "code",
   "execution_count": null,
   "metadata": {},
   "outputs": [],
   "source": [
    "Infectados  = fill(0, NumDiasInicioAoFimValor)\n",
    "Recuperados = fill(0, NumDiasInicioAoFimValor)\n",
    "Obitos      = fill(0, NumDiasInicioAoFimValor)\n",
    "\n",
    "for row in eachrow(df)\n",
    "    IndiceInicioSintomas = (Date(row[\"dt_inicio_sintomas\"],\"m/d/y\") - DataInicial + Day(1)).value # Sempre >= 1 \n",
    "    IndiceEvolucao = (Date(row[\"dt_evolucao\"],\"m/d/y\") - DataInicial + Day(1)).value # Pode ser > NumDiasInicioAoFimValor!\n",
    "    \n",
    "    if row[\"evolucao\"] == \"ATIVO\"\n",
    "        Infectados[IndiceInicioSintomas:end] .+= 1\n",
    "    elseif row[\"evolucao\"] == \"RECUPERADO\"\n",
    "        Infectados[IndiceInicioSintomas:min(IndiceEvolucao,NumDiasInicioAoFimValor+1)-1] .+= 1\n",
    "        Recuperados[min(IndiceEvolucao,NumDiasInicioAoFimValor+1):end] .+= 1\n",
    "    elseif row[\"evolucao\"] == \"OBITO\"\n",
    "        Infectados[IndiceInicioSintomas:min(IndiceEvolucao,NumDiasInicioAoFimValor+1)-1] .+= 1\n",
    "        Obitos[min(IndiceEvolucao,NumDiasInicioAoFimValor+1):end] .+= 1\n",
    "    end\n",
    "end"
   ]
  },
  {
   "cell_type": "code",
   "execution_count": null,
   "metadata": {},
   "outputs": [],
   "source": [
    "plot(Datas, hcat(Infectados, Recuperados, Obitos), label=[\"Infectados\" \"Recuperados\" \"Óbitos\"], linewidth=2)\n",
    "plot!(title=\"Casos de COVID-19 no Rio de Janeiro\", titlefont=11, gridalpha=0.22,\n",
    "    xlabel=\"Data\", ylabel=\"Número de indivíduos\", legend=:topleft)"
   ]
  },
  {
   "cell_type": "code",
   "execution_count": null,
   "metadata": {},
   "outputs": [],
   "source": [
    "plot(Datas, hcat(Infectados, Obitos), label=[\"Infectados\" \"Óbitos\"], linewidth=2)\n",
    "plot!(title=\"Casos de COVID-19 no Rio de Janeiro\", titlefont=11, gridalpha=0.22,\n",
    "    xlabel=\"Data\", ylabel=\"Número de indivíduos\", legend=:topleft)"
   ]
  },
  {
   "cell_type": "markdown",
   "metadata": {},
   "source": [
    "### 5.1; Médias móveis"
   ]
  },
  {
   "cell_type": "code",
   "execution_count": null,
   "metadata": {},
   "outputs": [],
   "source": [
    "NumDiasMedia = 7\n",
    "DatasMedia = DataInicial .+ Day.(NumDiasMedia-1:NumDiasInicioAoFimValor-1)\n",
    "InfectadosMedia = sum([Infectados[k:end-NumDiasMedia+k] for k=1:NumDiasMedia])/NumDiasMedia\n",
    "RecuperadosMedia = sum([Recuperados[k:end-NumDiasMedia+k] for k=1:NumDiasMedia])/NumDiasMedia\n",
    "ObitosMedia = sum([Obitos[k:end-NumDiasMedia+k] for k=1:NumDiasMedia])/NumDiasMedia\n",
    "nothing"
   ]
  },
  {
   "cell_type": "code",
   "execution_count": null,
   "metadata": {},
   "outputs": [],
   "source": [
    "plot(Datas, Infectados, label=\"Dados\", linewidth=1.5)\n",
    "plot!(DatasMedia, InfectadosMedia, label=\"Média móvel ($NumDiasMedia dias)\", linewidth=1.5)\n",
    "plot!(title=\"Casos ativos de COVID-19 no Rio de Janeiro\", titlefont=10, legend=:topleft,\n",
    "    xlabel=\"Data\", ylabel=\"Número de indivíduos\")"
   ]
  },
  {
   "cell_type": "code",
   "execution_count": null,
   "metadata": {},
   "outputs": [],
   "source": [
    "plot(Datas, Recuperados, label=\"Dados\", linewidth=1.5)\n",
    "plot!(DatasMedia, RecuperadosMedia, label=\"Média móvel ($NumDiasMedia dias)\", linewidth=1.5)\n",
    "plot!(title=\"Casos recuperados de COVID-19 no Rio de Janeiro\", titlefont=10, legend=:topleft,\n",
    "    xlabel=\"Data\", ylabel=\"Número de indivíduos\")"
   ]
  },
  {
   "cell_type": "code",
   "execution_count": null,
   "metadata": {},
   "outputs": [],
   "source": [
    "plot(Datas, Obitos, label=\"Dados\", linewidth=1.5)\n",
    "plot!(DatasMedia, ObitosMedia, label=\"Média móvel ($NumDiasMedia dias)\", linewidth=1.5)\n",
    "plot!(title=\"Óbitos por COVID-19 no Rio de Janeiro\", titlefont=10, legend=:topleft,\n",
    "    xlabel=\"Data\", ylabel=\"Número de indivíduos\")"
   ]
  },
  {
   "cell_type": "markdown",
   "metadata": {},
   "source": [
    "### 5.2; Gravando em disco"
   ]
  },
  {
   "cell_type": "code",
   "execution_count": null,
   "metadata": {},
   "outputs": [],
   "source": [
    "dfDadosDiarios = DataFrame(:Datas => Datas, :Infectados => Infectados, :Recuperados => Recuperados, :Obitos => Obitos)"
   ]
  },
  {
   "cell_type": "code",
   "execution_count": null,
   "metadata": {},
   "outputs": [],
   "source": [
    "CSV.write(\"DadosDiarios.csv\", dfDadosDiarios)"
   ]
  },
  {
   "cell_type": "code",
   "execution_count": null,
   "metadata": {},
   "outputs": [],
   "source": [
    "dfDadosMedia = DataFrame(:DatasMedia => DatasMedia, :InfectadosMedia => InfectadosMedia, :RecuperadosMedia => RecuperadosMedia, :ObitosMedia => ObitosMedia)"
   ]
  },
  {
   "cell_type": "code",
   "execution_count": null,
   "metadata": {},
   "outputs": [],
   "source": [
    "CSV.write(\"DadosMedia.csv\", dfDadosMedia)"
   ]
  },
  {
   "cell_type": "markdown",
   "metadata": {},
   "source": [
    "## 6; Gráficos para o relatório"
   ]
  },
  {
   "cell_type": "code",
   "execution_count": null,
   "metadata": {},
   "outputs": [],
   "source": [
    "ff = \"Times Bold\"\n",
    "\n",
    "p1 = plot(DatasMedia, hcat(InfectadosMedia, RecuperadosMedia, ObitosMedia), label = [\"Infectados\" \"Recuperados\" \"Decessos\"],\n",
    "    lw = 2)\n",
    "plot!(p1, fontfamily = ff, gridalpha = 0.22, xlabel = \"Data\", ylabel = \"Número de indivíduos\",\n",
    "    legend = :topleft, legendfontsize = 10, ylabelfontsize = 10)\n",
    "\n",
    "p2 = plot(DatasMedia, InfectadosMedia, label = \"Infectados\", color = 1, lw = 2)\n",
    "plot!(p2, DatasMedia, ObitosMedia, label = \"Decessos\", color = 3, lw = 2)\n",
    "plot!(p2, fontfamily = ff, gridalpha = 0.22, xlabel = \"Data\", ylabel = \"Número de indivíduos\",\n",
    "    legend = false, ylabelfontsize = 10)\n",
    "\n",
    "fig1 = plot(p1, p2, layout = (2, 1), plot_title = \"Casos de COVID-19 no Rio de Janeiro\",\n",
    "    plot_titlefontsize = 13, size = (500, 500))\n",
    "display(fig1)\n",
    "savefig(fig1, \"fig1.pdf\")"
   ]
  },
  {
   "cell_type": "code",
   "execution_count": null,
   "metadata": {},
   "outputs": [],
   "source": [
    "L = findall(data -> data == Date(2020, 03, 18), DatasMedia)[1]\n",
    "R = findall(data -> data == Date(2020, 06, 30), DatasMedia)[1]\n",
    "\n",
    "fig2 = plot(DatasMedia[L:R], hcat(InfectadosMedia[L:R], RecuperadosMedia[L:R], ObitosMedia[L:R]), label =\n",
    "    [\"Infectados\" \"Recuperados\" \"Decessos\"], lw = 2.5)\n",
    "plot!(fig2, fontfamily = ff, gridalpha = 0.22, xlabel = \"Data\", ylabel = \"Número de indivíduos\",\n",
    "    legend = :topleft, legendfontsize = 11, ylabelfontsize = 12, xlabelfontsize = 12, title =\n",
    "    \"Primeira onda de COVID-19 \\nno Rio de Janeiro\",  titlefontsize = 13)\n",
    "\n",
    "using Plots.PlotMeasures\n",
    "plot!(fig2, size = (500, 500), right_margin = 5mm)\n",
    "\n",
    "display(fig2)\n",
    "savefig(fig2, \"fig2.pdf\")"
   ]
  },
  {
   "cell_type": "code",
   "execution_count": null,
   "metadata": {},
   "outputs": [],
   "source": []
  }
 ],
 "metadata": {
  "kernelspec": {
   "display_name": "Julia 1.7.2",
   "language": "julia",
   "name": "julia-1.7"
  },
  "language_info": {
   "file_extension": ".jl",
   "mimetype": "application/julia",
   "name": "julia",
   "version": "1.6.2"
  }
 },
 "nbformat": 4,
 "nbformat_minor": 4
}
