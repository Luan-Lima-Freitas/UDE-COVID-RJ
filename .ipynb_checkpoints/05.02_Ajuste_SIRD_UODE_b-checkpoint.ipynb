{
 "cells": [
  {
   "cell_type": "code",
   "execution_count": 1,
   "metadata": {},
   "outputs": [],
   "source": [
    "using CSV, DataFrames, Dates, Plots"
   ]
  },
  {
   "cell_type": "markdown",
   "metadata": {},
   "source": [
    "# Dados da pandemia de COVID-19 no Rio de Janeiro\n",
    "\n",
    "\n",
    "- Os dados obtidos em [1] foram tratados no notebook  TratamentoDadosCovidRJ.ipynb .\n",
    "\n",
    "\n",
    "- Após carregar os dados, precisamos selecionar um ou mais períodos para modelar.\n",
    "\n",
    "[1] https://www.data.rio/datasets/PCRJ::cep-dos-casos-confirmados-de-covid-19-no-munic%C3%ADpio-do-rio-de-janeiro-1/about"
   ]
  },
  {
   "cell_type": "code",
   "execution_count": 2,
   "metadata": {},
   "outputs": [],
   "source": [
    "df = DataFrame(CSV.File(\"DadosMedia.csv\"))\n",
    "\n",
    "datasTudo = df[:,\"DatasMedia\"]\n",
    "infTudo = df[:,\"InfectadosMedia\"]\n",
    "recTudo = df[:,\"RecuperadosMedia\"]\n",
    "decTudo = df[:,\"ObitosMedia\"]\n",
    "\n",
    "limiteE = findall(data->data==Date(2020,03,18),datasTudo)[1]\n",
    "limiteD = findall(data->data==Date(2020,06,30),datasTudo)[1]\n",
    "\n",
    "datasOnda = datasTudo[limiteE:limiteD]\n",
    "infOnda = infTudo[limiteE:limiteD]\n",
    "recOnda = recTudo[limiteE:limiteD]\n",
    "decOnda = decTudo[limiteE:limiteD]\n",
    "\n",
    "dadosOnda = hcat(infOnda,recOnda,decOnda)\n",
    "\n",
    "nothing"
   ]
  },
  {
   "cell_type": "code",
   "execution_count": 3,
   "metadata": {},
   "outputs": [],
   "source": [
    "expIniciais = 2000.\n",
    "astIniciais = 1000.\n",
    "reaIniciais = 100.\n",
    "\n",
    "u₀_SEIAR  = [expIniciais,infOnda[1],astIniciais,recOnda[1],reaIniciais,decOnda[1]]\n",
    "θs₀_SEIAR = [6_000_000, 1., 1., 0.1, 0.05, 0.05, 1.]\n",
    "\n",
    "u₀_SIRD  = [infOnda[1], recOnda[1], decOnda[1]]\n",
    "θs₀_SIRD = [50_000, 0.5, 0.5, 0.5]\n",
    "\n",
    "nothing"
   ]
  },
  {
   "cell_type": "markdown",
   "metadata": {},
   "source": [
    "# Ajustando uma *Universal Ordinary Differential Equation*"
   ]
  },
  {
   "cell_type": "code",
   "execution_count": 4,
   "metadata": {},
   "outputs": [],
   "source": [
    "using DiffEqFlux, DifferentialEquations.OrdinaryDiffEq, Optim, Random; include(\"AuxMisc.jl\")"
   ]
  },
  {
   "cell_type": "markdown",
   "metadata": {},
   "source": [
    "## Ajuste para dados dos $N$ primeiros dias\n",
    "\n",
    "- Vamos ajustar os parâmetros do modelo *UODE* utilizando somente os dados dos $N$ primeiros dias para testar sua capacidade de previsão."
   ]
  },
  {
   "cell_type": "code",
   "execution_count": null,
   "metadata": {},
   "outputs": [],
   "source": [
    "N = 70\n",
    "\n",
    "function φ(x)\n",
    "    return max(0, min(x, 1))\n",
    "end\n",
    "\n",
    "function dudtSIR!(du, u, θ, t)\n",
    "    S, I, R, D = u\n",
    "    N = S + I + R + D\n",
    "    β, γ_R, γ_D = θ\n",
    "\n",
    "    E_novos = β^2 * I*S / N\n",
    "    dS = -E_novos \n",
    "    dI = E_novos - (γ_R^2 + γ_D^2)*I\n",
    "    dR = γ_R^2*I\n",
    "    dD = γ_D^2*I\n",
    "\n",
    "    du[1] = dS; du[2] = dI; du[3] = dR; du[4] = dD\n",
    "end\n",
    "\n",
    "u₀ = u₀_SIRD\n",
    "θs₀_SIR = θs₀_SIRD # θs = [S₀; θ]\n",
    "indModelo = [2, 3, 4]\n",
    "iterSIR = 10^4\n",
    "\n",
    "dadosTreino = dadosOnda[1:N, :]    \n",
    "dadosTreinoT = dadosTreino'\n",
    "\n",
    "# AJUSTE SIR:    \n",
    "modeloSIR(θs) = solve(ODEProblem(dudtSIR!, [θs[1]; u₀], (1., N), θs[2:end]), saveat = 1)[indModelo, :]\n",
    "\n",
    "custoSIR(θs) = sum(abs2, dadosTreinoT .- modeloSIR(θs))\n",
    "\n",
    "θs₁ = Optim.minimizer(optimize(custoSIR, θs₀_SIR, iterations = iterSIR))\n",
    "S₀_SIR = θs₁[1]\n",
    "θ₁_SIR = θs₁[2:end]"
   ]
  },
  {
   "cell_type": "code",
   "execution_count": null,
   "metadata": {},
   "outputs": [],
   "source": [
    "resultSIR = solve(ODEProblem(dudtSIR!, [S₀_SIR; u₀], (1., size(dadosOnda)[1]), θ₁_SIR), saveat = 1)\n",
    "\n",
    "infSIR = resultSIR[indModelo[1], :]\n",
    "recSIR = resultSIR[indModelo[2], :]\n",
    "decSIR = resultSIR[indModelo[3], :]\n",
    "\n",
    "pl = plot(infOnda, label = \"Infectados (dados)\", lw = 2, color = 1)\n",
    "plot!(pl, infSIR, label = \"Infectados SIR\", lw = 2, linestyle = :dot, color = 1)\n",
    "\n",
    "plot!(pl, recOnda, label = \"Recuperados (dados)\", lw = 2, color = 2)\n",
    "plot!(pl, recSIR, label = \"Recuperados SIR\", lw = 2, linestyle = :dot, color = 2)\n",
    "\n",
    "plot!(pl, decOnda, label = \"Decessos (dados)\", lw = 2, color = 3)\n",
    "plot!(pl, decSIR, label = \"Decessos SIR\", lw = 2, linestyle = :dot, color = 3)\n",
    "\n",
    "plot!(pl, [N], seriestype = \"vline\", label = \"Último dia do ajuste\", color = \"red\")\n",
    "\n",
    "plot!(pl, title = \"SIR para $N dias de treino\", titlefont = 11 , ylim = (-500, 30000),\n",
    "    xlabel = \"Dias percorridos\", ylabel = \"Total de indivíduos\", legend = :topleft, legendfont = 6)\n",
    "\n",
    "pl"
   ]
  },
  {
   "cell_type": "code",
   "execution_count": null,
   "metadata": {},
   "outputs": [],
   "source": [
    "#fatorReducao = maximum(dadosTreino)\n",
    "fatorReducao = sum([S₀_SIR; u₀])\n",
    "dadosTreinoT = dadosTreinoT ./ fatorReducao\n",
    "u₀ = u₀ ./ fatorReducao\n",
    "S₀_SIR = S₀_SIR / fatorReducao"
   ]
  },
  {
   "cell_type": "code",
   "execution_count": null,
   "metadata": {},
   "outputs": [],
   "source": [
    "NN = FastChain(FastDense(4,16,tanh), FastDense(16,16,tanh), FastDense(16,1), (x, θ) -> x.^2)\n",
    "inputVectorSizeNN = 4\n",
    "\n",
    "numDataPoints = 1_000\n",
    "\n",
    "Xs = rand(inputVectorSizeNN, numDataPoints)\n",
    "\n",
    "func(X) = θ₁_SIR[1]^2\n",
    "\n",
    "data_func = [func(X) for X in eachcol(Xs)]\n",
    "\n",
    "function costNN(θ)\n",
    "    pred = [NN(X, θ)[1] for X in eachcol(Xs)]\n",
    "    return sum(abs2, data_func .- pred), pred\n",
    "end\n",
    "\n",
    "costsNN = []\n",
    "\n",
    "function callBackNN(θ, cost, pred)\n",
    "    push!(costsNN, cost)\n",
    "    if length(costsNN) % 50 == 0\n",
    "        println(\"Iteracao : \", length(costsNN), \" , Erro : \", SciRound(cost))\n",
    "    end\n",
    "    false\n",
    "end\n",
    "\n",
    "resultBFGS = DiffEqFlux.sciml_train(costNN, initial_params(NN), cb = callBackNN, BFGS(initial_stepnorm = 0.01),\n",
    "    maxiters = 1_000, allow_f_increases = true)\n",
    "θ₀_NN = resultBFGS.minimizer"
   ]
  },
  {
   "cell_type": "code",
   "execution_count": null,
   "metadata": {},
   "outputs": [],
   "source": [
    "numeroParametrosNN = length(initial_params(NN))\n",
    "\n",
    "function dudtUODE!(du, u, θ, t)\n",
    "    S, I, R, D = u\n",
    "    N = S + I + R + D\n",
    "    γ_R, γ_D = θ[1:2]\n",
    "\n",
    "    E_novos =  NN(u, θ[3:end])[1] * I*S / N\n",
    "    dS = -E_novos \n",
    "    dI = E_novos - (γ_R^2 + γ_D^2)*I\n",
    "    dR = γ_R^2*I\n",
    "    dD = γ_D^2*I\n",
    "\n",
    "    du[1] = dS; du[2] = dI; du[3] = dR; du[4] = dD\n",
    "end\n",
    "\n",
    "function callBackUODE(θ, custo, previsao)\n",
    "    push!(custosUODE, custo)\n",
    "    if length(custosUODE)%10 == 0\n",
    "        println(\"Iteracao : \", length(custosUODE), \" , Erro : \", SciRound(custo))\n",
    "    end\n",
    "    false\n",
    "end\n",
    "\n",
    "θ₀_UODE = [θ₁_SIR[2:end]; θ₀_NN]\n",
    "problemaUODE = ODEProblem(dudtUODE!, [S₀_SIR; u₀], (1.,N), θ₀_UODE)\n",
    "\n",
    "function custoUODE(θ)\n",
    "    previsao = concrete_solve(problemaUODE, Vern7(), [S₀_SIR; u₀], θ, saveat = 1, abstol = 1e-4, reltol = 1e-4,\n",
    "        sensealg = InterpolatingAdjoint(autojacvec = ReverseDiffVJP()))[indModelo, :]\n",
    "    custo = sum(abs2, dadosTreinoT .- previsao)\n",
    "    return custo, previsao\n",
    "end\n",
    "\n",
    "c = custoUODE(θ₀_UODE)[1]"
   ]
  },
  {
   "cell_type": "code",
   "execution_count": null,
   "metadata": {},
   "outputs": [],
   "source": [
    "custosUODE = []\n",
    "\n",
    "resultadoBFGS_UODE = DiffEqFlux.sciml_train(custoUODE, θ₀_UODE, cb = callBackUODE, BFGS(initial_stepnorm = 0.01),\n",
    "    maxiters = 350, allow_f_increases = true)\n",
    "\n",
    "θ₁_UODE = resultadoBFGS_UODE"
   ]
  },
  {
   "cell_type": "code",
   "execution_count": null,
   "metadata": {},
   "outputs": [],
   "source": [
    "#modeloUODE = solve(ODEProblem(dudtUODE!, [S₀_SIR; u₀], (1., size(dadosOnda)[1]), θ₀_UODE), saveat = 1)[indModelo, :]' .* fatorReducao\n",
    "modeloUODE = solve(ODEProblem(dudtUODE!, [S₀_SIR; u₀], (1., size(dadosOnda)[1]), θ₁_UODE), saveat = 1)[indModelo, :]' .* fatorReducao\n",
    "\n",
    "infUODE = modeloUODE[:, 1]\n",
    "recUODE = modeloUODE[:, 2]\n",
    "decUODE = modeloUODE[:, 3]\n",
    "\n",
    "pl = plot(infOnda, label = \"Infectados (dados)\", lw = 2, color = 1)\n",
    "plot!(pl, infSIR, label = \"Infectados SIR\", lw = 2, linestyle = :dot, color = 1)\n",
    "plot!(pl, infUODE, label = string(\"Infectados UODE\"), lw = 2, linestyle = :dash, color = 1)\n",
    "\n",
    "plot!(pl, recOnda, label = \"Recuperados (dados)\", lw = 2, color = 2)\n",
    "plot!(pl, recSIR, label = \"Recuperados SIR\", lw = 2, linestyle = :dot, color = 2)\n",
    "plot!(pl, recUODE, label = string(\"Recuperados UODE\"), lw = 2, linestyle = :dash, color = 2)\n",
    "\n",
    "plot!(pl, decOnda, label = \"Decessos (dados)\", lw = 2, color = 3)\n",
    "plot!(pl, decSIR, label = \"Decessos SIR\", lw = 2, linestyle = :dot, color = 3)\n",
    "plot!(pl, decUODE, label = string(\"Decessos UODE\"), lw = 2, linestyle = :dash, color = 3)\n",
    "\n",
    "plot!(pl, [N], seriestype = \"vline\", label = \"Último dia do ajuste\", color = \"red\")\n",
    "\n",
    "plot!(pl, title = \"UODE x SIR para $N dias de treino\", titlefont = 11 , ylim = (-500, 30000),\n",
    "    xlabel = \"Dias percorridos\", ylabel = \"Total de indivíduos\", legend = :topleft, legendfont = 6)\n",
    "\n",
    "display(pl)"
   ]
  },
  {
   "cell_type": "code",
   "execution_count": 17,
   "metadata": {},
   "outputs": [
    {
     "data": {
      "text/plain": [
       "\"Parametros_SIRD_UODE_b/paramsSIRD_UODE_b_70Dias.csv\""
      ]
     },
     "execution_count": 17,
     "metadata": {},
     "output_type": "execute_result"
    }
   ],
   "source": [
    "c_initSIR = DataFrame(:S0 => S₀_SIR)\n",
    "paramsSIR = DataFrame(:Parametros => θ₁_SIR)\n",
    "\n",
    "paramsUODE = DataFrame(:Parametros => θ₁_UODE)\n",
    "\n",
    "CSV.write(string(\"Parametros_SIRD_UODE_b/c_initSIRD_\", N, \"Dias.csv\"), c_initSIR)\n",
    "CSV.write(string(\"Parametros_SIRD_UODE_b/paramsSIRD_\", N, \"Dias.csv\"), paramsSIR)\n",
    "\n",
    "CSV.write(string(\"Parametros_SIRD_UODE_b/paramsSIRD_UODE_b_\", N, \"Dias.csv\"), paramsUODE)"
   ]
  },
  {
   "cell_type": "code",
   "execution_count": null,
   "metadata": {},
   "outputs": [],
   "source": []
  }
 ],
 "metadata": {
  "kernelspec": {
   "display_name": "Julia 1.7.2",
   "language": "julia",
   "name": "julia-1.7"
  },
  "language_info": {
   "file_extension": ".jl",
   "mimetype": "application/julia",
   "name": "julia",
   "version": "1.7.2"
  }
 },
 "nbformat": 4,
 "nbformat_minor": 4
}
