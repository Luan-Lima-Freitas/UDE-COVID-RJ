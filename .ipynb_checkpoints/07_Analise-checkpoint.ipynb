{
 "cells": [
  {
   "cell_type": "code",
   "execution_count": 1,
   "metadata": {},
   "outputs": [],
   "source": [
    "using CSV, DataFrames, Dates, Plots, DiffEqFlux, DifferentialEquations.OrdinaryDiffEq"
   ]
  },
  {
   "cell_type": "code",
   "execution_count": null,
   "metadata": {},
   "outputs": [],
   "source": [
    "df = DataFrame(CSV.File(\"DadosMedia.csv\"))\n",
    "\n",
    "datasTudo = df[:,\"DatasMedia\"]\n",
    "infTudo = df[:,\"InfectadosMedia\"]\n",
    "recTudo = df[:,\"RecuperadosMedia\"]\n",
    "decTudo = df[:,\"ObitosMedia\"]\n",
    "\n",
    "limiteE = findall(data->data==Date(2020,03,18),datasTudo)[1]\n",
    "limiteD = findall(data->data==Date(2020,06,30),datasTudo)[1]\n",
    "\n",
    "datasOnda = datasTudo[limiteE:limiteD]\n",
    "infOnda = infTudo[limiteE:limiteD]\n",
    "recOnda = recTudo[limiteE:limiteD]\n",
    "decOnda = decTudo[limiteE:limiteD]\n",
    "\n",
    "dadosOnda = hcat(infOnda,recOnda,decOnda)\n",
    "\n",
    "nothing"
   ]
  },
  {
   "cell_type": "code",
   "execution_count": null,
   "metadata": {},
   "outputs": [],
   "source": [
    "expIniciais = 2000.\n",
    "astIniciais = 1000.\n",
    "reaIniciais = 100.\n",
    "\n",
    "u₀_SIRD  = [infOnda[1], recOnda[1], decOnda[1]]\n",
    "\n",
    "nothing"
   ]
  },
  {
   "cell_type": "code",
   "execution_count": null,
   "metadata": {},
   "outputs": [],
   "source": [
    "N = 40\n",
    "\n",
    "S₀_SIRD_1 = DataFrame(CSV.File(string(\"Parametros_SIRD_UODE_b/c_initSIRD_\", N, \"Dias.csv\")))[1, 1]\n",
    "θ₁_SIRD_1 = DataFrame(CSV.File(string(\"Parametros_SIRD_UODE_b/paramsSIRD_\", N, \"Dias.csv\")))[:, 1]\n",
    "θ₁_UODE_1 = DataFrame(CSV.File(string(\"Parametros_SIRD_UODE_b/paramsSIRD_UODE_b_\", N, \"Dias.csv\")))[:, 1]\n",
    "\n",
    "NN4x1 = FastChain(FastDense(4,16,tanh), FastDense(16,16,tanh), FastDense(16,1), (x, θ) -> x.^2)\n",
    "\n",
    "S₀_SIRD_2 = DataFrame(CSV.File(string(\"Parametros_SIRD_UODE_bSI/c_initSIRD_\", N, \"Dias.csv\")))[1, 1]\n",
    "θ₁_SIRD_2 = DataFrame(CSV.File(string(\"Parametros_SIRD_UODE_bSI/paramsSIRD_\", N, \"Dias.csv\")))[:, 1]\n",
    "θ₁_UODE_2 = DataFrame(CSV.File(string(\"Parametros_SIRD_UODE_bSI/paramsSIRD_UODE_bSI_\", N, \"Dias.csv\")))[:, 1]\n",
    "\n",
    "NN2x1 = FastChain(FastDense(2,16,tanh), FastDense(16,16,tanh), FastDense(16,1), (x, θ) -> x.^2)\n",
    "\n",
    "nothing"
   ]
  },
  {
   "cell_type": "code",
   "execution_count": null,
   "metadata": {},
   "outputs": [],
   "source": [
    "function dudtSIR!(du, u, θ, t)\n",
    "    S, I, R, D = u\n",
    "    N = S + I + R\n",
    "    β, γ_R, γ_D = θ\n",
    "\n",
    "    E_novos = β^2 * I*S / N\n",
    "    dS = -E_novos \n",
    "    dI = E_novos - (γ_R^2 + γ_D^2)*I\n",
    "    dR = γ_R^2*I\n",
    "    dD = γ_D^2*I\n",
    "\n",
    "    du[1] = dS; du[2] = dI; du[3] = dR; du[4] = dD\n",
    "end\n",
    "\n",
    "function dudtUODE_1!(du, u, θ, t)\n",
    "    S, I, R, D = u\n",
    "    N = S + I + R\n",
    "    γ_R, γ_D = θ[1:2]\n",
    "\n",
    "    E_novos =  NN4x1(u, θ[3:end])[1] * I*S / N\n",
    "    dS = -E_novos \n",
    "    dI = E_novos - (γ_R^2 + γ_D^2)*I\n",
    "    dR = γ_R^2*I\n",
    "    dD = γ_D^2*I\n",
    "\n",
    "    du[1] = dS; du[2] = dI; du[3] = dR; du[4] = dD\n",
    "end\n",
    "\n",
    "function dudtUODE_2!(du, u, θ, t)\n",
    "    S, I, R, D = u\n",
    "    N = S + I + R\n",
    "    γ_R, γ_D = θ[1:2]\n",
    "\n",
    "    E_novos =  NN2x1([S/N, I], θ[3:end])[1]\n",
    "    dS = -E_novos \n",
    "    dI = E_novos - (γ_R^2 + γ_D^2)*I\n",
    "    dR = γ_R^2*I\n",
    "    dD = γ_D^2*I\n",
    "\n",
    "    du[1] = dS; du[2] = dI; du[3] = dR; du[4] = dD\n",
    "end\n",
    "\n",
    "nothing"
   ]
  },
  {
   "cell_type": "code",
   "execution_count": null,
   "metadata": {},
   "outputs": [],
   "source": [
    "dadosTreino = dadosOnda[1:N, :]    \n",
    "fatorReducao = maximum(dadosTreino)\n",
    "\n",
    "h = 0.02\n",
    "\n",
    "modeloSIR = solve(ODEProblem(dudtSIR!, [S₀_SIRD_1 * fatorReducao; u₀_SIRD], (1., size(dadosOnda)[1]), θ₁_SIRD_1),\n",
    "    saveat = h)\n",
    "\n",
    "infSIR = modeloSIR[2, :]\n",
    "recSIR = modeloSIR[3, :]\n",
    "decSIR = modeloSIR[4, :]\n",
    "\n",
    "modeloUODE_1 = solve(ODEProblem(dudtUODE_1!, [S₀_SIRD_1; u₀_SIRD ./ fatorReducao], (1., size(dadosOnda)[1]), θ₁_UODE_1),\n",
    "    saveat = h) .* fatorReducao\n",
    "\n",
    "infUODE_1 = modeloUODE_1[2, :]\n",
    "recUODE_1 = modeloUODE_1[3, :]\n",
    "decUODE_1 = modeloUODE_1[4, :]\n",
    "\n",
    "modeloUODE_2 = solve(ODEProblem(dudtUODE_2!, [S₀_SIRD_2; u₀_SIRD ./ fatorReducao], (1., size(dadosOnda)[1]), θ₁_UODE_2),\n",
    "    saveat = h) .* fatorReducao\n",
    "\n",
    "infUODE_2 = modeloUODE_2[2, :]\n",
    "recUODE_2 = modeloUODE_2[3, :]\n",
    "decUODE_2 = modeloUODE_2[4, :]\n",
    "\n",
    "nothing"
   ]
  },
  {
   "cell_type": "code",
   "execution_count": null,
   "metadata": {},
   "outputs": [],
   "source": []
  }
 ],
 "metadata": {
  "kernelspec": {
   "display_name": "Julia 1.7.2",
   "language": "julia",
   "name": "julia-1.7"
  },
  "language_info": {
   "file_extension": ".jl",
   "mimetype": "application/julia",
   "name": "julia",
   "version": "1.7.2"
  }
 },
 "nbformat": 4,
 "nbformat_minor": 4
}
